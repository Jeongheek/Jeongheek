{
 "cells": [
  {
   "cell_type": "code",
   "execution_count": 3,
   "metadata": {},
   "outputs": [],
   "source": [
    "import pickle\n",
    "data = {\n",
    "        'name' : '홍길동'\n",
    "    ,    'age' : 30\n",
    "}\n",
    "\n",
    "f = open('test.data','wb')\n",
    "pickle.dump(data, f)\n",
    "f.close()"
   ]
  },
  {
   "cell_type": "code",
   "execution_count": 4,
   "metadata": {},
   "outputs": [
    {
     "name": "stdout",
     "output_type": "stream",
     "text": [
      "{'name': '홍길동', 'age': 30}\n"
     ]
    }
   ],
   "source": [
    "f = open('./test.data','rb')\n",
    "data = pickle.load(f)\n",
    "print(data)"
   ]
  },
  {
   "cell_type": "code",
   "execution_count": 5,
   "metadata": {},
   "outputs": [
    {
     "name": "stdout",
     "output_type": "stream",
     "text": [
      "environ({'COMMAND_MODE': 'unix2003', 'CONDA_DEFAULT_ENV': 'test', 'CONDA_EXE': '/opt/anaconda3/bin/conda', 'CONDA_PREFIX': '/opt/anaconda3/envs/test', 'CONDA_PROMPT_MODIFIER': '(test) ', 'CONDA_PYTHON_EXE': '/opt/anaconda3/bin/python', 'CONDA_SHLVL': '2', 'GSETTINGS_SCHEMA_DIR': '/opt/anaconda3/share/glib-2.0/schemas', 'HOME': '/Users/jh', 'LOGNAME': 'jh', 'MallocNanoZone': '0', 'OLDPWD': '/', 'ORIGINAL_XDG_CURRENT_DESKTOP': 'undefined', 'PATH': '/opt/anaconda3/envs/test/bin:/opt/anaconda3/condabin:/opt/homebrew/bin:/Library/Frameworks/Python.framework/Versions/3.12/bin:/usr/local/bin:/System/Cryptexes/App/usr/bin:/usr/bin:/bin:/usr/sbin:/sbin:/var/run/com.apple.security.cryptexd/codex.system/bootstrap/usr/local/bin:/var/run/com.apple.security.cryptexd/codex.system/bootstrap/usr/bin:/var/run/com.apple.security.cryptexd/codex.system/bootstrap/usr/appleinternal/bin', 'PWD': '/', 'SHELL': '/bin/zsh', 'SHLVL': '2', 'SSH_AUTH_SOCK': '/private/tmp/com.apple.launchd.7FEJ5w3EJP/Listeners', 'TMPDIR': '/var/folders/mk/j80_28qs0yj7h620rpq7zcf00000gn/T/', 'USER': 'jh', 'VSCODE_AMD_ENTRYPOINT': 'vs/workbench/api/node/extensionHostProcess', 'VSCODE_CODE_CACHE_PATH': '/Users/jh/Library/Application Support/Code/CachedData/1e790d77f81672c49be070e04474901747115651', 'VSCODE_CRASH_REPORTER_PROCESS_TYPE': 'extensionHost', 'VSCODE_CWD': '/', 'VSCODE_HANDLES_UNCAUGHT_ERRORS': 'true', 'VSCODE_IPC_HOOK': '/Users/jh/Library/Application Support/Code/1.87-main.sock', 'VSCODE_NLS_CONFIG': '{\"locale\":\"ko\",\"osLocale\":\"ko-kr\",\"availableLanguages\":{\"*\":\"ko\"},\"_languagePackId\":\"d7923a5e9c189bd20f0c04fffd902b65.ko\",\"_translationsConfigFile\":\"/Users/jh/Library/Application Support/Code/clp/d7923a5e9c189bd20f0c04fffd902b65.ko/tcf.json\",\"_cacheRoot\":\"/Users/jh/Library/Application Support/Code/clp/d7923a5e9c189bd20f0c04fffd902b65.ko\",\"_resolvedLanguagePackCoreLocation\":\"/Users/jh/Library/Application Support/Code/clp/d7923a5e9c189bd20f0c04fffd902b65.ko/1e790d77f81672c49be070e04474901747115651\",\"_corruptedFile\":\"/Users/jh/Library/Application Support/Code/clp/d7923a5e9c189bd20f0c04fffd902b65.ko/corrupted.info\",\"_languagePackSupport\":true}', 'VSCODE_PID': '856', 'XPC_FLAGS': '0x0', 'XPC_SERVICE_NAME': '0', '_': '/opt/anaconda3/envs/test/bin/python', '__CFBundleIdentifier': 'com.microsoft.VSCode', '__CF_USER_TEXT_ENCODING': '0x1F5:0x3:0x33', 'ELECTRON_RUN_AS_NODE': '1', 'VSCODE_L10N_BUNDLE_LOCATION': 'file:///Users/jh/.vscode/extensions/ms-ceintl.vscode-language-pack-ko-1.87.2024031309/translations/extensions/vscode.markdown-language-features.i18n.json', 'APPLICATION_INSIGHTS_NO_DIAGNOSTIC_CHANNEL': '1', 'PYTHONUNBUFFERED': '1', 'PYTHONIOENCODING': 'utf-8', '_CE_CONDA': '', 'CONDA_PREFIX_1': '/opt/anaconda3', 'CONDA_ROOT': '/opt/anaconda3', '_CE_M': '', 'LC_CTYPE': 'UTF-8', 'PYDEVD_IPYTHON_COMPATIBLE_DEBUGGING': '1', 'PYDEVD_USE_FRAME_EVAL': 'NO', 'TERM': 'xterm-color', 'CLICOLOR': '1', 'FORCE_COLOR': '1', 'CLICOLOR_FORCE': '1', 'PAGER': 'cat', 'GIT_PAGER': 'cat', 'MPLBACKEND': 'module://matplotlib_inline.backend_inline'})\n"
     ]
    }
   ],
   "source": [
    "# os 모듈 사용\n",
    "import os\n",
    "\n",
    "print(os.environ)\n",
    "print(os.environ['path'])"
   ]
  },
  {
   "cell_type": "code",
   "execution_count": 8,
   "metadata": {},
   "outputs": [
    {
     "name": "stdout",
     "output_type": "stream",
     "text": [
      "/Users/jh/big18/python/ch05\n",
      "/Users/jh/big18/python\n"
     ]
    }
   ],
   "source": [
    "print(os.getcwd())\n",
    "os.chdir('../')\n",
    "print(os.getcwd())"
   ]
  },
  {
   "cell_type": "code",
   "execution_count": 9,
   "metadata": {},
   "outputs": [
    {
     "name": "stdout",
     "output_type": "stream",
     "text": [
      "/Users/jh/big18/python/ch05\n"
     ]
    },
    {
     "data": {
      "text/plain": [
       "'dst.data'"
      ]
     },
     "execution_count": 9,
     "metadata": {},
     "output_type": "execute_result"
    }
   ],
   "source": [
    "#파일 복사\n",
    "import shutil\n",
    "\n",
    "os.chdir('./ch05')\n",
    "print(os.getcwd())\n",
    "shutil.copy('test.data','dst.data')"
   ]
  },
  {
   "cell_type": "code",
   "execution_count": 10,
   "metadata": {},
   "outputs": [
    {
     "name": "stdout",
     "output_type": "stream",
     "text": [
      "['test.data', 'dst.data']\n"
     ]
    }
   ],
   "source": [
    "import glob\n",
    "\n",
    "flist = glob.glob('*.data')\n",
    "\n",
    "print(flist)"
   ]
  },
  {
   "cell_type": "markdown",
   "metadata": {},
   "source": [
    "---\n",
    "6월 27일\n",
    "---\n",
    "time모듈\n"
   ]
  },
  {
   "cell_type": "code",
   "execution_count": 11,
   "metadata": {},
   "outputs": [
    {
     "name": "stdout",
     "output_type": "stream",
     "text": [
      "1719454796.108456\n"
     ]
    }
   ],
   "source": [
    "import time\n",
    "print(time.time())"
   ]
  },
  {
   "cell_type": "code",
   "execution_count": 15,
   "metadata": {},
   "outputs": [
    {
     "name": "stdout",
     "output_type": "stream",
     "text": [
      "time.struct_time(tm_year=2024, tm_mon=6, tm_mday=27, tm_hour=11, tm_min=24, tm_sec=32, tm_wday=3, tm_yday=179, tm_isdst=0)\n",
      "time.struct_time(tm_year=2024, tm_mon=6, tm_mday=27, tm_hour=11, tm_min=24, tm_sec=32, tm_wday=3, tm_yday=179, tm_isdst=0)\n",
      "2024 년 6 월 27 일\n"
     ]
    }
   ],
   "source": [
    "print(time.localtime(time.time()))\n",
    "print(time.localtime())\n",
    "\n",
    "ct = time.localtime()\n",
    "print(ct.tm_year,'년',ct.tm_mon,'월',ct.tm_mday,'일')\n"
   ]
  },
  {
   "cell_type": "code",
   "execution_count": 17,
   "metadata": {},
   "outputs": [
    {
     "data": {
      "text/plain": [
       "'2024-06-27 11:28:59'"
      ]
     },
     "execution_count": 17,
     "metadata": {},
     "output_type": "execute_result"
    }
   ],
   "source": [
    "#strftime(형식, 날짜시간 object)\n",
    "struct_time = time.localtime()\n",
    "time.strftime('%Y-%m-%d %H:%M:%S',struct_time)"
   ]
  },
  {
   "cell_type": "code",
   "execution_count": 18,
   "metadata": {},
   "outputs": [
    {
     "name": "stdout",
     "output_type": "stream",
     "text": [
      "<class 'time.struct_time'>\n",
      "time.struct_time(tm_year=2024, tm_mon=10, tm_mday=11, tm_hour=18, tm_min=30, tm_sec=0, tm_wday=4, tm_yday=285, tm_isdst=-1)\n"
     ]
    }
   ],
   "source": [
    "#특정 날짜와 시간을 다루는 오브젝트 생성\n",
    "time_string = '2024-10-11 18:30:00'\n",
    "formatted_time = time.strptime(time_string,'%Y-%m-%d %H:%M:%S')\n",
    "print(type(formatted_time))\n",
    "print(formatted_time)"
   ]
  },
  {
   "cell_type": "code",
   "execution_count": 20,
   "metadata": {},
   "outputs": [
    {
     "name": "stdout",
     "output_type": "stream",
     "text": [
      "1\n",
      "2\n",
      "3\n",
      "4\n",
      "5\n",
      "6\n",
      "7\n",
      "8\n",
      "9\n",
      "10\n",
      "10.044088624999858\n"
     ]
    }
   ],
   "source": [
    "import time\n",
    "start = time.perf_counter()\n",
    "for i in range(1,11):\n",
    "    print(i)\n",
    "    time.sleep(1)\n",
    "    \n",
    "end = time.perf_counter()\n",
    "print( end- start )    #세부적인 실행 시간\n",
    "\n",
    "\n",
    "# 이 코드는 파이썬의 time 모듈을 사용하여 반복 작업의 실행 시간과 지연 시간을 측정하는 예제입니다. 다음은 코드의 각 부분에 대한 설명입니다.\n",
    "\n",
    "# 주요 개념 및 함수\n",
    "\n",
    "# \t1.\timport time:\n",
    "# \t•\t파이썬의 time 모듈을 불러옵니다. 이 모듈은 시간과 관련된 여러 가지 함수들을 제공합니다.\n",
    "# \t2.\ttime.perf_counter():\n",
    "# \t•\t높은 해상도의 타이머를 시작하거나 중지하는 데 사용됩니다. 주로 성능 측정에 적합하며, 실행 시간을 측정할 때 정밀도를 제공합니다.\n",
    "# \t•\tstart = time.perf_counter()는 코드를 시작하기 직전의 시간을 기록합니다.\n",
    "# \t•\tend = time.perf_counter()는 코드를 끝낸 후의 시간을 기록합니다.\n",
    "# \t3.\tfor i in range(1, 11)::\n",
    "# \t•\t1부터 10까지의 숫자를 순서대로 반복합니다.\n",
    "# \t4.\tprint(i):\n",
    "# \t•\t현재 반복의 숫자(i)를 출력합니다.\n",
    "# \t5.\ttime.sleep(1):\n",
    "# \t•\t각 반복이 실행될 때마다 1초 동안 멈춥니다. 이는 코드 실행을 1초씩 지연시키는 역할을 합니다.\n",
    "# \t6.\tprint(end - start):\n",
    "# \t•\t코드의 실행 시간(초 단위)을 계산하여 출력합니다. end 시간에서 start 시간을 빼서 전체 실행 시간을 측정합니다.\n",
    "\n",
    "# 요약:\n",
    "\n",
    "# \t•\t목적: 이 코드는 1초 간격으로 1부터 10까지의 숫자를 출력하며, 전체 실행 시간을 측정합니다.\n",
    "# \t•\t사용된 함수: time.perf_counter()로 시작과 끝 시간을 기록하고, time.sleep(1)로 각 반복 사이에 1초 지연을 추가합니다.\n",
    "# \t•\t결과: 코드의 총 실행 시간(대략 10초 이상)이 출력됩니다. 지연 시간(10초)과 실제 코드 실행 시간이 더해진 값이 됩니다.\n",
    "\n",
    "# 이 코드를 통해 프로그램의 지연 시간을 포함한 전체 실행 시간을 측정할 수 있습니다."
   ]
  },
  {
   "cell_type": "code",
   "execution_count": 25,
   "metadata": {},
   "outputs": [
    {
     "name": "stdout",
     "output_type": "stream",
     "text": [
      "00:10\n",
      "00:09\n",
      "00:08\n",
      "00:07\n",
      "00:06\n",
      "00:05\n",
      "00:04\n",
      "00:03\n",
      "00:02\n",
      "00:01\n"
     ]
    }
   ],
   "source": [
    "#간단한 타이머 구현 \n",
    "import time\n",
    "def count_timer(seconds):\n",
    "    while seconds:\n",
    "        mins, secs = divmod(seconds,60)\n",
    "        print(f'{mins:02d}:{secs:02d}')\n",
    "        time.sleep(1)\n",
    "        seconds -= 1\n",
    "        \n",
    "count_timer(10)        "
   ]
  },
  {
   "cell_type": "code",
   "execution_count": 28,
   "metadata": {},
   "outputs": [
    {
     "name": "stdout",
     "output_type": "stream",
     "text": [
      "                                  2024\n",
      "\n",
      "      January                   February                   March\n",
      "Mo Tu We Th Fr Sa Su      Mo Tu We Th Fr Sa Su      Mo Tu We Th Fr Sa Su\n",
      " 1  2  3  4  5  6  7                1  2  3  4                   1  2  3\n",
      " 8  9 10 11 12 13 14       5  6  7  8  9 10 11       4  5  6  7  8  9 10\n",
      "15 16 17 18 19 20 21      12 13 14 15 16 17 18      11 12 13 14 15 16 17\n",
      "22 23 24 25 26 27 28      19 20 21 22 23 24 25      18 19 20 21 22 23 24\n",
      "29 30 31                  26 27 28 29               25 26 27 28 29 30 31\n",
      "\n",
      "       April                      May                       June\n",
      "Mo Tu We Th Fr Sa Su      Mo Tu We Th Fr Sa Su      Mo Tu We Th Fr Sa Su\n",
      " 1  2  3  4  5  6  7             1  2  3  4  5                      1  2\n",
      " 8  9 10 11 12 13 14       6  7  8  9 10 11 12       3  4  5  6  7  8  9\n",
      "15 16 17 18 19 20 21      13 14 15 16 17 18 19      10 11 12 13 14 15 16\n",
      "22 23 24 25 26 27 28      20 21 22 23 24 25 26      17 18 19 20 21 22 23\n",
      "29 30                     27 28 29 30 31            24 25 26 27 28 29 30\n",
      "\n",
      "        July                     August                  September\n",
      "Mo Tu We Th Fr Sa Su      Mo Tu We Th Fr Sa Su      Mo Tu We Th Fr Sa Su\n",
      " 1  2  3  4  5  6  7                1  2  3  4                         1\n",
      " 8  9 10 11 12 13 14       5  6  7  8  9 10 11       2  3  4  5  6  7  8\n",
      "15 16 17 18 19 20 21      12 13 14 15 16 17 18       9 10 11 12 13 14 15\n",
      "22 23 24 25 26 27 28      19 20 21 22 23 24 25      16 17 18 19 20 21 22\n",
      "29 30 31                  26 27 28 29 30 31         23 24 25 26 27 28 29\n",
      "                                                    30\n",
      "\n",
      "      October                   November                  December\n",
      "Mo Tu We Th Fr Sa Su      Mo Tu We Th Fr Sa Su      Mo Tu We Th Fr Sa Su\n",
      "    1  2  3  4  5  6                   1  2  3                         1\n",
      " 7  8  9 10 11 12 13       4  5  6  7  8  9 10       2  3  4  5  6  7  8\n",
      "14 15 16 17 18 19 20      11 12 13 14 15 16 17       9 10 11 12 13 14 15\n",
      "21 22 23 24 25 26 27      18 19 20 21 22 23 24      16 17 18 19 20 21 22\n",
      "28 29 30 31               25 26 27 28 29 30         23 24 25 26 27 28 29\n",
      "                                                    30 31\n",
      "\n"
     ]
    }
   ],
   "source": [
    "import calendar\n",
    "\n",
    "print(calendar.calendar(2024))"
   ]
  },
  {
   "cell_type": "code",
   "execution_count": 29,
   "metadata": {},
   "outputs": [
    {
     "name": "stdout",
     "output_type": "stream",
     "text": [
      "3\n"
     ]
    }
   ],
   "source": [
    "print(calendar.weekday(2024,6,27)) #요일 출력 월 - 0 "
   ]
  },
  {
   "cell_type": "code",
   "execution_count": 30,
   "metadata": {},
   "outputs": [
    {
     "name": "stdout",
     "output_type": "stream",
     "text": [
      "(5, 30)\n"
     ]
    }
   ],
   "source": [
    "print(calendar.monthrange(2024,6)) #6월 1일의 요일과, 6월 달 마지막 날  "
   ]
  },
  {
   "cell_type": "code",
   "execution_count": null,
   "metadata": {},
   "outputs": [],
   "source": [
    "#datetime\n",
    "# #주요 클래스\n",
    "# data: 날짜를 다루는 클래스\n",
    "# time: 시간을 다루는 클래스\n",
    "# datatime : 날짜 시간 모두 다루는 클래스\n",
    "# timedelta 날짜 시간 차이를 처리하는 클래스\n",
    "# tzinfo 시간대 정보를 처리하기 위한 클래스 \n",
    "\n",
    "\n"
   ]
  },
  {
   "cell_type": "code",
   "execution_count": 32,
   "metadata": {},
   "outputs": [
    {
     "name": "stdout",
     "output_type": "stream",
     "text": [
      "2024-06-27\n",
      "<class 'datetime.date'>\n",
      "2024-10-11\n"
     ]
    }
   ],
   "source": [
    "#클래스별 주요 속성과 메소드\n",
    "# 1. data: 생성자 data(year,mon,day)\n",
    "# 속성  : today(), strtime(),replace()\n",
    "\n",
    "#import datetime\n",
    "from datetime import date\n",
    "\n",
    "# 오늘 날짜 처리\n",
    "#today = datetime.date.today()\n",
    "today = date.today()\n",
    "print(today)\n",
    "\n",
    "#특정 날짜 처리\n",
    "specific_date = date(2024,10,11)\n",
    "print(type(specific_date))\n",
    "print(specific_date)"
   ]
  },
  {
   "cell_type": "code",
   "execution_count": 38,
   "metadata": {},
   "outputs": [
    {
     "name": "stdout",
     "output_type": "stream",
     "text": [
      "12:23:30\n"
     ]
    }
   ],
   "source": [
    "#시간 처리\n",
    "#생성 : time (hour=0, minute= 0, sec=0,micsec= 0,tzi= none, *, fold=0) default가 있어서 값을 안주고 처리가능\n",
    "#속성 : hour, min,sec, micsec\n",
    "# 메소드 : strftime(),replace()\n",
    "from datetime import time\n",
    "s_time = time(12,23,30)\n",
    "print(s_time)\n"
   ]
  },
  {
   "cell_type": "code",
   "execution_count": 41,
   "metadata": {},
   "outputs": [
    {
     "name": "stdout",
     "output_type": "stream",
     "text": [
      "2024-06-27 12:31:32.075804\n",
      "2024-06-27 12:31:32.075894\n",
      "2024-10-11 18:30:00\n",
      "2024-10-11 00:00:00\n"
     ]
    }
   ],
   "source": [
    "#datetime class\n",
    "from datetime import datetime\n",
    "#생성: datetime(y,m,d,h=0,m=0,s=0,ms=0,,.....)\n",
    "#메소드: now(),today(),strptim(),strftime(),replace()\n",
    "\n",
    "#현재 날짜 시간\n",
    "now = datetime.now()\n",
    "print(now)\n",
    "\n",
    "today = datetime.today()\n",
    "print(today)\n",
    "\n",
    "s_datetime = datetime(2024,10,11,18,30,00)\n",
    "print(s_datetime)\n",
    "\n",
    "s_datetime = datetime(2024,10,11)\n",
    "print(s_datetime)"
   ]
  },
  {
   "cell_type": "code",
   "execution_count": 43,
   "metadata": {},
   "outputs": [
    {
     "name": "stdout",
     "output_type": "stream",
     "text": [
      "5 days, 0:00:00\n"
     ]
    }
   ],
   "source": [
    "#timedelta\n",
    "#생성: timedelta\n",
    "\n",
    "from datetime import timedelta\n",
    "delta = timedelta(days = 5)\n",
    "print(delta)"
   ]
  },
  {
   "cell_type": "code",
   "execution_count": 45,
   "metadata": {},
   "outputs": [
    {
     "name": "stdout",
     "output_type": "stream",
     "text": [
      "2024-06-27 13:48:42.529036\n",
      "2024-10-05 13:48:42.529036\n"
     ]
    }
   ],
   "source": [
    "#timedelta 활용예제\n",
    "#현재시간 기준으로 10일 후 시간\n",
    "\n",
    "from datetime import datetime, timedelta\n",
    "\n",
    "now = datetime.now()\n",
    "print(now)\n",
    "\n",
    "\n",
    "now100 = now + timedelta(days=100)\n",
    "print(now100)\n",
    "\n",
    "\n",
    "# 위의 코드는 파이썬의 datetime 모듈을 사용하여 현재 날짜와 시간을 얻고, 100일 후의 날짜와 시간을 계산하는 예제입니다. 코드 없이 주요 개념을 쉽게 설명하겠습니다.\n",
    "\n",
    "# 주요 개념과 사용법:\n",
    "\n",
    "# \t1.\tdatetime 모듈:\n",
    "# \t•\t날짜와 시간을 처리하는 다양한 클래스를 제공하는 파이썬 모듈입니다.\n",
    "# \t•\t여기서 datetime 클래스와 timedelta 클래스를 사용합니다.\n",
    "# \t2.\tdatetime.now():\n",
    "# \t•\t현재 날짜와 시간을 가져옵니다.\n",
    "# \t•\t예를 들어, 지금이 언제인지를 알 수 있게 합니다.\n",
    "# \t•\t정의: 현재 시각을 포함한 datetime 객체를 반환합니다.\n",
    "# \t•\t사용법: now = datetime.now()\n",
    "# \t3.\ttimedelta:\n",
    "# \t•\t두 날짜 또는 시간 간의 차이를 나타냅니다.\n",
    "# \t•\t정의: 기간을 더하거나 빼는 연산을 위해 사용되는 클래스입니다.\n",
    "# \t•\t사용법: timedelta(days=100)는 100일의 기간을 나타냅니다.\n",
    "# \t4.\t날짜 계산:\n",
    "# \t•\tnow + timedelta(days=100): 현재 날짜에 100일을 더합니다.\n",
    "# \t•\t이렇게 하면 현재 날짜로부터 100일 후의 날짜와 시간을 계산할 수 있습니다.\n",
    "# \t•\t예를 들어, 오늘이 1월 1일이라면, 100일 후는 4월 11일이 됩니다.\n",
    "\n",
    "# 차이점:\n",
    "\n",
    "# \t•\tnow:\n",
    "# \t•\t현재 날짜와 시간을 나타냅니다.\n",
    "# \t•\t예를 들어, 오늘이 2024년 6월 26일 오후 2시 30분이라면, now는 2024-06-26 14:30:00입니다.\n",
    "# \t•\tnow100:\n",
    "# \t•\t현재 날짜로부터 100일 후의 날짜와 시간을 나타냅니다.\n",
    "# \t•\t예를 들어, 오늘이 2024년 6월 26일이라면, 100일 후는 2024년 10월 4일이 됩니다.\n",
    "\n",
    "# 요약:\n",
    "\n",
    "# \t•\tdatetime.now(): 현재 날짜와 시간을 얻습니다.\n",
    "# \t•\ttimedelta(days=100): 100일의 기간을 나타냅니다.\n",
    "# \t•\t현재 날짜에 100일을 더하기: 현재 날짜에 100일을 더하여 100일 후의 날짜를 계산합니다."
   ]
  },
  {
   "cell_type": "code",
   "execution_count": 48,
   "metadata": {},
   "outputs": [
    {
     "name": "stdout",
     "output_type": "stream",
     "text": [
      "<class 'datetime.datetime'> 2024-06-27 13:50:21\n",
      "2024-06-27 13:57:16.950488\n",
      "2024-06-27\n"
     ]
    }
   ],
   "source": [
    "#daretime class: strptime, strftime\n",
    "\n",
    "date_str = '2024-06-27 13:50:21'\n",
    "date_obj = datetime.strptime(date_str, '%Y-%m-%d %H:%M:%S')\n",
    "print(type(date_obj),date_obj)\n",
    "\n",
    "\n",
    "now = datetime.now()\n",
    "print(now)\n",
    "s_date = now.strftime('%Y-%m-%d')\n",
    "print(s_date)\n"
   ]
  },
  {
   "cell_type": "markdown",
   "metadata": {},
   "source": [
    "---\n",
    "random\n",
    "---\n"
   ]
  },
  {
   "cell_type": "code",
   "execution_count": 50,
   "metadata": {},
   "outputs": [
    {
     "name": "stdout",
     "output_type": "stream",
     "text": [
      "이번주 당첨번호는: [4, 5, 11, 16, 39, 45]\n"
     ]
    }
   ],
   "source": [
    "import random\n",
    "\n",
    "# 최근 당첨 번호\n",
    "recent_numbers = [\n",
    "    {6, 14, 25, 33, 40, 44},\n",
    "    {3, 8, 17, 30, 33, 34},\n",
    "    {13, 19, 21, 24, 34, 35},\n",
    "    {3, 6, 21, 30, 34, 35},\n",
    "    {6, 24, 31, 32, 38, 44},\n",
    "    {2, 19, 26, 31, 38, 41}\n",
    "]\n",
    "\n",
    "# 전체 번호 리스트 생성\n",
    "all_numbers = list(range(1, 46))\n",
    "\n",
    "# 최근 당첨 번호에서 사용된 모든 번호 집합 생성\n",
    "recent_numbers_set = set.union(*recent_numbers)\n",
    "\n",
    "# 최근 당첨 번호에서 사용되지 않은 번호 리스트 생성\n",
    "available_numbers = list(set(all_numbers) - recent_numbers_set)\n",
    "\n",
    "# 패턴 참고하여 번호 추출 함수\n",
    "def generate_lotto_numbers():\n",
    "    # 랜덤하게 6개의 번호를 선택 (중복 제거)\n",
    "    selected_numbers = random.sample(available_numbers, 6)\n",
    "    return sorted(selected_numbers)\n",
    "\n",
    "# 로또 번호 생성\n",
    "lotto_numbers = generate_lotto_numbers()\n",
    "print(\"이번주 당첨번호는:\", lotto_numbers)"
   ]
  },
  {
   "cell_type": "code",
   "execution_count": 53,
   "metadata": {},
   "outputs": [
    {
     "name": "stdout",
     "output_type": "stream",
     "text": [
      "1\n",
      "4\n",
      "3\n",
      "0\n",
      "2\n"
     ]
    }
   ],
   "source": [
    "import random\n",
    "\n",
    "def random_pop(list_): #list_ <- data = [1,2,3,4,5] data[0],data[4]\n",
    "    idx = random.randint(0,len(list_)-1)\n",
    "    print(list_.pop(idx)) \n",
    "#     pop 메서드는 리스트에서 특정 위치에 있는 요소를 제거하고, 그 요소를 반환합니다.\n",
    "\n",
    "# 주요 기능:\n",
    "\n",
    "# \t•\t리스트에서 요소 제거: pop 메서드는 리스트에서 지정된 인덱스(idx)에 있는 요소를 제거합니다.\n",
    "# \t•\t제거된 요소 반환: 제거된 요소를 반환하므로, 그 요소를 다른 변수에 저장하거나 사용할 수 있습니다.\n",
    "# \t•\t인덱스 생략 가능: 인덱스를 생략하면, 리스트의 마지막 요소를 제거하고 반환합니다.\n",
    "\n",
    "# 예를 들어 설명하면:\n",
    "\n",
    "# \t•\tlist_.pop(idx): 리스트 list_에서 idx 위치에 있는 요소를 제거하고 그 요소를 반환합니다.\n",
    "# \t•\tlist_.pop(): 리스트 list_의 마지막 요소를 제거하고 그 요소를 반환합니다.\n",
    "\n",
    "# 비슷한 메서드:\n",
    "\n",
    "# \t1.\tremove:\n",
    "# \t•\t리스트에서 특정 값을 찾아 제거합니다. 값이 여러 번 등장하면 첫 번째 등장만 제거합니다.\n",
    "# \t•\t사용법: list_.remove(value)\n",
    "# \t2.\tdel:\n",
    "# \t•\t리스트에서 특정 위치에 있는 요소를 제거하지만, 제거된 요소를 반환하지 않습니다.\n",
    "# \t•\t사용법: del list_[idx]\n",
    "# \t3.\tclear:\n",
    "# \t•\t리스트의 모든 요소를 제거합니다.\n",
    "# \t•\t사용법: list_.clear()\n",
    "\n",
    "# 요약:\n",
    "\n",
    "# \t•\tpop 메서드: 리스트에서 특정 위치의 요소를 제거하고 반환합니다.\n",
    "# \t•\t비슷한 메서드:\n",
    "# \t•\tremove: 특정 값을 찾아 제거.\n",
    "# \t•\tdel: 특정 위치의 요소를 제거하지만 반환하지 않음.\n",
    "# \t•\tclear: 리스트의 모든 요소를 제거.\n",
    "\n",
    "# 이렇게 리스트에서 요소를 제거하는 다양한 방법들이 있습니다. pop은 특히 요소를 제거하고 그 값을 사용해야 할 때 유용합니다.\n",
    "    \n",
    "data = list(range(5))\n",
    "while data:\n",
    "    random_pop(data)\n",
    "    \n",
    "    \n",
    "    "
   ]
  },
  {
   "cell_type": "code",
   "execution_count": 54,
   "metadata": {},
   "outputs": [
    {
     "name": "stdout",
     "output_type": "stream",
     "text": [
      "[5, 2, 3, 1, 4]\n"
     ]
    }
   ],
   "source": [
    "data = [1,2,3,4,5]\n",
    "random.shuffle(data) #섞는다\n",
    "print(data)\n"
   ]
  },
  {
   "cell_type": "code",
   "execution_count": 57,
   "metadata": {},
   "outputs": [
    {
     "name": "stdout",
     "output_type": "stream",
     "text": [
      "5\n",
      "1\n",
      "2\n",
      "5\n",
      "2\n"
     ]
    }
   ],
   "source": [
    "def random_choice(list_):\n",
    "    number = random.choice(list_)\n",
    "    return number\n",
    "\n",
    "data = [1,2,3,4,5]\n",
    "for _ in range(5):\n",
    "    print(random.choice(data)) #하나의 값 선택\n",
    "#  복원 추출과 비복원 추출은 둘 다 여러 항목 중에서 임의로 선택하는 방법입니다. 차이점은 선택한 항목을 다시 포함시키는지 여부에 있습니다.\n",
    "\n",
    "# 복원 추출 (With Replacement):\n",
    "\n",
    "# \t•\t정의: 선택한 항목을 다시 원래 집합에 포함시켜 다음 선택에서도 뽑힐 수 있도록 하는 방법입니다.\n",
    "# \t•\t예시: 주머니에 빨간 공 3개, 파란 공 2개가 있다고 생각해보세요. 공을 하나 뽑고 나서, 그 공을 다시 주머니에 넣습니다. 그러면 다음번 공을 뽑을 때 그 공이 다시 뽑힐 수 있습니다.\n",
    "# \t•\t쉽게 설명: 뽑기 게임에서 한 번 뽑은 카드를 다시 덱에 넣는 것과 같아요.\n",
    "\n",
    "# 비복원 추출 (Without Replacement):\n",
    "\n",
    "# \t•\t정의: 선택한 항목을 다시 원래 집합에 포함시키지 않아 다음 선택에서는 뽑힐 수 없도록 하는 방법입니다.\n",
    "# \t•\t예시: 주머니에 빨간 공 3개, 파란 공 2개가 있다고 생각해보세요. 공을 하나 뽑고 나서, 그 공을 다시 주머니에 넣지 않습니다. 그러면 그 공은 다시 뽑히지 않습니다.\n",
    "# \t•\t쉽게 설명: 뽑기 게임에서 한 번 뽑은 카드를 덱에서 빼는 것과 같아요. 한 번 뽑힌 카드는 다시 뽑히지 않아요.\n",
    "\n",
    "# 요약:\n",
    "\n",
    "# \t•\t복원 추출: 뽑은 것을 다시 넣고 다음에 또 뽑을 수 있는 것. 예: 카드 뽑고 다시 넣기.\n",
    "# \t•\t비복원 추출: 뽑은 것을 다시 넣지 않고 다음에 뽑지 않는 것. 예: 카드 뽑고 빼기.\n",
    "\n"
   ]
  },
  {
   "cell_type": "code",
   "execution_count": 58,
   "metadata": {},
   "outputs": [
    {
     "name": "stdout",
     "output_type": "stream",
     "text": [
      "7\n"
     ]
    }
   ],
   "source": [
    "print(random.randrange(1,10,2))\n",
    "\n",
    "# \t1.\t첫 번째 숫자 (1): 시작 값 (포함)\n",
    "# \t•\t난수가 생성될 범위의 시작 값을 나타냅니다. 여기서는 1부터 시작합니다.\n",
    "# \t2.\t두 번째 숫자 (10): 끝 값 (제외)\n",
    "# \t•\t난수가 생성될 범위의 끝 값을 나타냅니다. 여기서는 10을 포함하지 않습니다. 즉, 9까지입니다.\n",
    "# \t3.\t세 번째 숫자 (2): 스텝 값 (간격)\n",
    "# \t•\t숫자들이 증가하는 간격을 나타냅니다. 여기서는 2씩 증가합니다.\n",
    "\n",
    "# 예시 설명:\n",
    "\n",
    "# \t•\t**random.randrange(1, 10, 2)**는 1부터 10까지(10은 포함하지 않음) 2씩 증가하는 숫자들 중에서 임의의 숫자를 반환합니다.\n",
    "# \t•\t가능한 숫자: 1, 3, 5, 7, 9 중 하나를 반환합니다.\n"
   ]
  },
  {
   "cell_type": "code",
   "execution_count": 66,
   "metadata": {},
   "outputs": [
    {
     "name": "stdout",
     "output_type": "stream",
     "text": [
      "['banana', 'apple']\n"
     ]
    }
   ],
   "source": [
    "#choice  데이터는 반드시 들어가야한다. 디폴트는 1개 복원추출\n",
    "datas = ['apple','banana','cherry']\n",
    "print(random.choices(datas, weights=[1,2,3], k = 2))\n"
   ]
  },
  {
   "cell_type": "code",
   "execution_count": 69,
   "metadata": {},
   "outputs": [
    {
     "name": "stdout",
     "output_type": "stream",
     "text": [
      "['apple', '777']\n"
     ]
    }
   ],
   "source": [
    "#비복원 추출\n",
    "datas = ['apple','banana','cherry','7','77','777']\n",
    "print(random.sample(datas,2))\n"
   ]
  },
  {
   "cell_type": "code",
   "execution_count": 70,
   "metadata": {},
   "outputs": [
    {
     "name": "stdout",
     "output_type": "stream",
     "text": [
      "19649.372557638555\n"
     ]
    }
   ],
   "source": [
    "#random.uniform(a,b)\n",
    "#균등분포\n",
    "max_ = 20000\n",
    "min_ = 18000\n",
    "print(random.uniform(min_,max_))"
   ]
  },
  {
   "cell_type": "code",
   "execution_count": 73,
   "metadata": {},
   "outputs": [
    {
     "name": "stderr",
     "output_type": "stream",
     "text": [
      "Matplotlib is building the font cache; this may take a moment.\n"
     ]
    },
    {
     "name": "stdout",
     "output_type": "stream",
     "text": [
      "10000\n"
     ]
    },
    {
     "data": {
      "image/png": "[encoded data removed]",
      "text/plain": [
       "<Figure size 640x480 with 1 Axes>"
      ]
     },
     "metadata": {},
     "output_type": "display_data"
    }
   ],
   "source": [
    "import random\n",
    "import matplotlib.pyplot as pit\n",
    "\n",
    "a = 0\n",
    "b = 1\n",
    "samples = [random.uniform(a,b) for _ in range(10000)]\n",
    "print(len(samples))\n",
    "\n",
    "pit.hist(samples, bins=50, edgecolor='red')\n",
    "pit.show()"
   ]
  },
  {
   "cell_type": "code",
   "execution_count": 74,
   "metadata": {},
   "outputs": [
    {
     "name": "stdout",
     "output_type": "stream",
     "text": [
      "2\n"
     ]
    }
   ],
   "source": [
    "random.seed(42)\n",
    "print(random.randint(1,10))"
   ]
  },
  {
   "cell_type": "code",
   "execution_count": 75,
   "metadata": {},
   "outputs": [
    {
     "data": {
      "text/plain": [
       "True"
      ]
     },
     "execution_count": 75,
     "metadata": {},
     "output_type": "execute_result"
    }
   ],
   "source": [
    "#webbrowser\n",
    "\n",
    "import webbrowser\n",
    "webbrowser.open('https://www.naver.com')\n"
   ]
  },
  {
   "cell_type": "code",
   "execution_count": null,
   "metadata": {},
   "outputs": [],
   "source": [
    "import threading\n",
    "import time\n",
    "\n",
    "def say(msg):\n",
    "    while True:\n",
    "        print(msg)\n",
    "        time.sleep(1)\n",
    "for msg in ['you','need','python']:\n",
    "    t = threading.Thread(target=say,args=(msg,))\n",
    "    t.daemon = True\n",
    "    t.start()\n"
   ]
  },
  {
   "cell_type": "code",
   "execution_count": null,
   "metadata": {},
   "outputs": [],
   "source": []
  },
  {
   "cell_type": "code",
   "execution_count": null,
   "metadata": {},
   "outputs": [],
   "source": []
  },
  {
   "cell_type": "code",
   "execution_count": null,
   "metadata": {},
   "outputs": [],
   "source": []
  },
  {
   "cell_type": "code",
   "execution_count": null,
   "metadata": {},
   "outputs": [],
   "source": []
  }
 ],
 "metadata": {
  "kernelspec": {
   "display_name": "test",
   "language": "python",
   "name": "python3"
  },
  "language_info": {
   "codemirror_mode": {
    "name": "ipython",
    "version": 3
   },
   "file_extension": ".py",
   "mimetype": "text/x-python",
   "name": "python",
   "nbconvert_exporter": "python",
   "pygments_lexer": "ipython3",
   "version": "3.10.14"
  }
 },
 "nbformat": 4,
 "nbformat_minor": 2
}
