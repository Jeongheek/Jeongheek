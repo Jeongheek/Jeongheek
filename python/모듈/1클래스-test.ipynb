{
 "cells": [
  {
   "cell_type": "code",
   "execution_count": 1,
   "metadata": {},
   "outputs": [],
   "source": [
    "# 클래스 선언\n",
    "# 파이썬은 동적 언어 : 실행중에 추가(변수, 메소드)\n",
    "class Programmer:\n",
    "    pass"
   ]
  },
  {
   "cell_type": "code",
   "execution_count": 2,
   "metadata": {},
   "outputs": [],
   "source": [
    "kim = Programmer() # object 생성\n",
    "park = Programmer() # object 생성"
   ]
  },
  {
   "cell_type": "code",
   "execution_count": 3,
   "metadata": {},
   "outputs": [],
   "source": [
    "# 이야기 형식으로 클래스 기초 쌓기\n",
    "# 클래스 소유의 변수 : 자바 => static variable\n",
    "class Service: # 인터넷 서비스 업체 \n",
    "    secret = '영구는 외계인이다.' # 클래스 변수, 클래스로 접근, 공유"
   ]
  },
  {
   "cell_type": "code",
   "execution_count": 6,
   "metadata": {},
   "outputs": [
    {
     "name": "stdout",
     "output_type": "stream",
     "text": [
      "영구는 외계인이다.\n",
      "영구는 외계인이다.\n",
      "영구는 외계인이다.\n"
     ]
    }
   ],
   "source": [
    "pey = Service()\n",
    "kim = Service()\n",
    "print(pey.secret) # pey로 secret 접근\n",
    "print(kim.secret) # kim로 secret 접근\n",
    "print(Service.secret) # Service로 클래스명으로 secret 접근"
   ]
  },
  {
   "cell_type": "code",
   "execution_count": 11,
   "metadata": {},
   "outputs": [],
   "source": [
    "# 2. 메소드\n",
    "# sum() method 추가\n",
    "class Service:\n",
    "    secret = '영구는 외계인이다.' # 클래스 변수 : 오브젝트들이 공유 목적\n",
    "    \n",
    "    # def sum(a,b): # self 없는 메소드 static method => 클래스 메소드\n",
    "    #     result = a + b\n",
    "    #     print(f'{a} + {b} = {result}')\n",
    "    #     return None\n",
    "    \n",
    "    def sum(self, a,b): # self가 있는 메소드 : 멤버 메소드\n",
    "        result = a + b\n",
    "        print(f'{a} + {b} = {result}')\n",
    "        return None"
   ]
  },
  {
   "cell_type": "code",
   "execution_count": 13,
   "metadata": {},
   "outputs": [
    {
     "name": "stdout",
     "output_type": "stream",
     "text": [
      "영구는 외계인이다.\n",
      "1 + 2 = 3\n",
      "None\n"
     ]
    }
   ],
   "source": [
    "pey = Service()\n",
    "print(pey.secret)\n",
    "print(pey.sum(1,2))"
   ]
  },
  {
   "cell_type": "code",
   "execution_count": null,
   "metadata": {},
   "outputs": [],
   "source": []
  },
  {
   "cell_type": "code",
   "execution_count": null,
   "metadata": {},
   "outputs": [],
   "source": []
  }
 ],
 "metadata": {
  "kernelspec": {
   "display_name": "test",
   "language": "python",
   "name": "python3"
  },
  "language_info": {
   "codemirror_mode": {
    "name": "ipython",
    "version": 3
   },
   "file_extension": ".py",
   "mimetype": "text/x-python",
   "name": "python",
   "nbconvert_exporter": "python",
   "pygments_lexer": "ipython3",
   "version": "3.10.14"
  }
 },
 "nbformat": 4,
 "nbformat_minor": 2
}
