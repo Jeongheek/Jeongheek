{
 "cells": [
  {
   "cell_type": "code",
   "execution_count": 8,
   "metadata": {},
   "outputs": [],
   "source": [
    "class Student:\n",
    "    uname = '한국' #클래스 변수 : 공유  \n",
    "    \n",
    "    def __init__(self, name, sunm) -> None:\n",
    "    #def __init__(self) -> None: 리턴 타입\n",
    "        self.name = name \n",
    "        self.sunm = sunm \n",
    "        pass\n",
    "    \n",
    "    def study(self,dept):\n",
    "        self.dept = dept"
   ]
  },
  {
   "cell_type": "code",
   "execution_count": 9,
   "metadata": {},
   "outputs": [],
   "source": [
    "hong = Student('홍길동','1234')\n",
    "go = Student('고길동','2345')"
   ]
  },
  {
   "cell_type": "code",
   "execution_count": 10,
   "metadata": {},
   "outputs": [
    {
     "ename": "SyntaxError",
     "evalue": "invalid character '（' (U+FF08) (3453662196.py, line 1)",
     "output_type": "error",
     "traceback": [
      "\u001b[0;36m  Cell \u001b[0;32mIn[10], line 1\u001b[0;36m\u001b[0m\n\u001b[0;31m    print（dir(go)）\u001b[0m\n\u001b[0m         ^\u001b[0m\n\u001b[0;31mSyntaxError\u001b[0m\u001b[0;31m:\u001b[0m invalid character '（' (U+FF08)\n"
     ]
    }
   ],
   "source": [
    "print（dir(hong))\n",
    "# print(type(kim))\n",
    "# print(type(park))\n",
    "# print(kim.과목)\n",
    "# print(park.과목)\n",
    "\n"
   ]
  },
  {
   "cell_type": "code",
   "execution_count": 11,
   "metadata": {},
   "outputs": [],
   "source": [
    "hong.study('컴공')\n",
    "go.study('소공')"
   ]
  },
  {
   "cell_type": "code",
   "execution_count": 12,
   "metadata": {},
   "outputs": [
    {
     "name": "stdout",
     "output_type": "stream",
     "text": [
      "컴공\n",
      "소공\n"
     ]
    }
   ],
   "source": [
    "print(hong.dept)\n",
    "print(go.dept)"
   ]
  },
  {
   "cell_type": "code",
   "execution_count": 7,
   "metadata": {},
   "outputs": [
    {
     "data": {
      "text/plain": [
       "['__class__',\n",
       " '__delattr__',\n",
       " '__dict__',\n",
       " '__dir__',\n",
       " '__doc__',\n",
       " '__eq__',\n",
       " '__format__',\n",
       " '__ge__',\n",
       " '__getattribute__',\n",
       " '__gt__',\n",
       " '__hash__',\n",
       " '__init__',\n",
       " '__init_subclass__',\n",
       " '__le__',\n",
       " '__lt__',\n",
       " '__module__',\n",
       " '__ne__',\n",
       " '__new__',\n",
       " '__reduce__',\n",
       " '__reduce_ex__',\n",
       " '__repr__',\n",
       " '__setattr__',\n",
       " '__sizeof__',\n",
       " '__str__',\n",
       " '__subclasshook__',\n",
       " '__weakref__',\n",
       " 'name',\n",
       " 'study',\n",
       " 'sunm',\n",
       " 'uname',\n",
       " '과목']"
      ]
     },
     "execution_count": 7,
     "metadata": {},
     "output_type": "execute_result"
    }
   ],
   "source": [
    "dir(kim)"
   ]
  },
  {
   "cell_type": "code",
   "execution_count": 13,
   "metadata": {},
   "outputs": [],
   "source": [
    "class Service:\n",
    "    secret = '영구는 외계인'\n",
    "    \n",
    "    def sum(self, a,b):\n",
    "        result = a + b\n",
    "        print(f'{a} + {b} = {result}')"
   ]
  },
  {
   "cell_type": "code",
   "execution_count": 16,
   "metadata": {},
   "outputs": [
    {
     "name": "stdout",
     "output_type": "stream",
     "text": [
      "1 + 1 = 2\n",
      "None\n",
      "1 + 2 = 3\n",
      "None\n",
      "1 + 2 = 3\n",
      "1 + 2 = 3\n"
     ]
    }
   ],
   "source": [
    "kim = Service()\n",
    "park = Service()\n",
    "\n",
    "print(kim.sum(1,1))\n",
    "print(kim.sum(1,2))\n",
    "\n",
    "\n",
    "slist =[kim, park]\n",
    "for stu in slist:\n",
    "    Service.sum(stu,1,2)"
   ]
  },
  {
   "cell_type": "code",
   "execution_count": 20,
   "metadata": {},
   "outputs": [],
   "source": [
    "#인스턴스 변수 생성과 사용\n",
    "class Service:\n",
    "    secret = '영구는 외계인'\n",
    "    \n",
    "    def __init__(self, name) -> None:\n",
    "        self.name = name\n",
    "    \n",
    "    def setName(self,name): #name :파라미터 (받는놈)\n",
    "        self.name = name #인스턴스 변수 생성\n",
    "        \n",
    "        \n",
    "    def sum(self, a, b):\n",
    "        result = a + b\n",
    "        print(f'{self.name}님 {a}+{b}={result}')\n",
    "        return None"
   ]
  },
  {
   "cell_type": "code",
   "execution_count": 22,
   "metadata": {},
   "outputs": [
    {
     "name": "stdout",
     "output_type": "stream",
     "text": [
      "홍길동님 1+2=3\n",
      "None\n",
      "hong님 2+5=7\n",
      "None\n",
      "고길동님 2+3=5\n",
      "None\n"
     ]
    }
   ],
   "source": [
    "kim = Service('홍길동')\n",
    "print(kim.sum(1,2))\n",
    "#kim.setName('홍길순')\n",
    "kim.name = 'hong'\n",
    "print(kim.sum(2,5))\n",
    "\n",
    "go = Service('고길동')\n",
    "#go.setName('고길동')\n",
    "print(go.sum(2,3))"
   ]
  },
  {
   "cell_type": "code",
   "execution_count": 43,
   "metadata": {},
   "outputs": [],
   "source": [
    "class HouseKim(HousePark):\n",
    "    pass\n",
    "    # lastName = '박'\n",
    "    \n",
    "    # def __init__(self, firstName) -> None:\n",
    "    #     self.fullName = self.lastName + firstName\n",
    "        \n",
    "    \n",
    "    \n",
    "    # #HousePark.lastName, pey.lastName -> self.lastName\n",
    "    # def setName(self, name):\n",
    "    #     self.firstName = name\n",
    "    #     self.fullName = self.lastName + name\n",
    "    \n",
    "    # def travel(self, where):\n",
    "    #     print(f'{self.fullName}, {where}여행을 가다')\n",
    "    def travel(self, where):\n",
    "        print(f'{self.fullName}, {where}여행을 합니다')"
   ]
  },
  {
   "cell_type": "code",
   "execution_count": 44,
   "metadata": {},
   "outputs": [
    {
     "name": "stdout",
     "output_type": "stream",
     "text": [
      "박줄리엣, 울릉도여행을 합니다\n",
      "박찬호, 영국여행을 가다\n",
      "박\n",
      "박찬호\n"
     ]
    }
   ],
   "source": [
    "juliet = HouseKim('줄리엣')\n",
    "juliet.travel('울릉도')\n",
    "\n",
    "pey = HousePark('찬호')\n",
    "pey.travel('영국')\n",
    "\n",
    "print(pey.lastName)\n",
    "#print(pey.firstName)\n",
    "print(pey.fullName)\n",
    "#chanho = HousePark()\n",
    "\n",
    "# print(chanho.lastName)\n",
    "# print(chanho.firstName)\n",
    "# print(chanho.fullName)"
   ]
  },
  {
   "cell_type": "code",
   "execution_count": 54,
   "metadata": {},
   "outputs": [],
   "source": [
    "#연산자 오버로딩 -> 더하기 -> 객체(박) + 객체(김) -> 결혼했네\n",
    "class HousePark():\n",
    "    lastName = '박'\n",
    "    \n",
    "    def __init__(self,name) -> None:\n",
    "        self.fullName = self.lastName + name\n",
    "        \n",
    "    def travel(self, where):\n",
    "        print(f'{self.fullName}, {where}여행을 합니다')\n",
    "        \n",
    "    def __add__(self, other):\n",
    "        print(f'{self.fullName}, {other.fullName}결혼 했네')\n",
    "        \n",
    "    def __sub__(self, other):\n",
    "        print(f'{self.fullName}, {other.fullName}헤어졌네')"
   ]
  },
  {
   "cell_type": "code",
   "execution_count": 55,
   "metadata": {},
   "outputs": [
    {
     "name": "stdout",
     "output_type": "stream",
     "text": [
      "박찬호, 박줄리엣결혼 했네\n",
      "박찬호, 제주도여행을 합니다\n",
      "박줄리엣, 울릉도여행을 합니다\n",
      "박찬호, 박줄리엣헤어졌네\n"
     ]
    }
   ],
   "source": [
    "pey = HousePark('찬호')\n",
    "#dir(pey)\n",
    "juliet = HouseKim('줄리엣')\n",
    "\n",
    "pey+juliet\n",
    "\n",
    "pey.travel('제주도')\n",
    "juliet.travel('울릉도')\n",
    "pey - juliet\n"
   ]
  },
  {
   "cell_type": "code",
   "execution_count": null,
   "metadata": {},
   "outputs": [],
   "source": []
  },
  {
   "cell_type": "code",
   "execution_count": null,
   "metadata": {},
   "outputs": [],
   "source": []
  },
  {
   "cell_type": "code",
   "execution_count": null,
   "metadata": {},
   "outputs": [],
   "source": []
  },
  {
   "cell_type": "code",
   "execution_count": null,
   "metadata": {},
   "outputs": [],
   "source": []
  },
  {
   "cell_type": "code",
   "execution_count": null,
   "metadata": {},
   "outputs": [],
   "source": []
  },
  {
   "cell_type": "code",
   "execution_count": null,
   "metadata": {},
   "outputs": [],
   "source": []
  },
  {
   "cell_type": "code",
   "execution_count": null,
   "metadata": {},
   "outputs": [],
   "source": []
  },
  {
   "cell_type": "code",
   "execution_count": null,
   "metadata": {},
   "outputs": [],
   "source": []
  },
  {
   "cell_type": "code",
   "execution_count": null,
   "metadata": {},
   "outputs": [],
   "source": []
  },
  {
   "cell_type": "code",
   "execution_count": null,
   "metadata": {},
   "outputs": [],
   "source": []
  }
 ],
 "metadata": {
  "kernelspec": {
   "display_name": "test",
   "language": "python",
   "name": "python3"
  },
  "language_info": {
   "codemirror_mode": {
    "name": "ipython",
    "version": 3
   },
   "file_extension": ".py",
   "mimetype": "text/x-python",
   "name": "python",
   "nbconvert_exporter": "python",
   "pygments_lexer": "ipython3",
   "version": "3.10.14"
  }
 },
 "nbformat": 4,
 "nbformat_minor": 2
}
