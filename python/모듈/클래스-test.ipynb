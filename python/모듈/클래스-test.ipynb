{
 "cells": [
  {
   "cell_type": "code",
   "execution_count": 1,
   "metadata": {},
   "outputs": [],
   "source": [
    "#클래스 선언\n",
    "\n",
    "class Programmer:\n",
    "    pass "
   ]
  },
  {
   "cell_type": "code",
   "execution_count": 2,
   "metadata": {},
   "outputs": [],
   "source": [
    "kim = Programmer()\n",
    "park = Programmer()"
   ]
  },
  {
   "cell_type": "code",
   "execution_count": 7,
   "metadata": {},
   "outputs": [],
   "source": [
    "#이야기 형식으로 클래스 기초 쌍기\n",
    "#클래스 소유의 변수: staatic variable\n",
    "\n",
    "class Service():\n",
    "    secret = '영구는 외계인'"
   ]
  },
  {
   "cell_type": "code",
   "execution_count": 9,
   "metadata": {},
   "outputs": [
    {
     "name": "stdout",
     "output_type": "stream",
     "text": [
      "영구는 외계인\n",
      "영구는 외계인\n",
      "영구는 외계인\n"
     ]
    }
   ],
   "source": [
    "pey = Service()\n",
    "kim = Service()\n",
    "print(pey.secret)\n",
    "print(kim.secret)\n",
    "print(Service.secret)"
   ]
  },
  {
   "cell_type": "code",
   "execution_count": 14,
   "metadata": {},
   "outputs": [],
   "source": [
    "class Service():\n",
    "    secret = '영구는 외계인'\n",
    "    def sum(a,b):\n",
    "        result = a + b\n",
    "        print(f'{a} + {b} = {result}')\n",
    "        return None\n",
    "    def sum(self,a,b):   #self 주소값 저장,a=1,b=2 저징 \n",
    "        result = a + b\n",
    "        print(f'{a} + {b} = {result}')\n",
    "        return None"
   ]
  },
  {
   "cell_type": "code",
   "execution_count": 15,
   "metadata": {},
   "outputs": [
    {
     "name": "stdout",
     "output_type": "stream",
     "text": [
      "영구는 외계인\n",
      "1 + 2 = 3\n",
      "None\n"
     ]
    }
   ],
   "source": [
    "pey = Service()\n",
    "print(pey.secret)\n",
    "print(pey.sum(1,2))\n"
   ]
  },
  {
   "cell_type": "code",
   "execution_count": null,
   "metadata": {},
   "outputs": [],
   "source": []
  },
  {
   "cell_type": "code",
   "execution_count": null,
   "metadata": {},
   "outputs": [],
   "source": []
  },
  {
   "cell_type": "code",
   "execution_count": null,
   "metadata": {},
   "outputs": [],
   "source": []
  }
 ],
 "metadata": {
  "kernelspec": {
   "display_name": "test",
   "language": "python",
   "name": "python3"
  },
  "language_info": {
   "codemirror_mode": {
    "name": "ipython",
    "version": 3
   },
   "file_extension": ".py",
   "mimetype": "text/x-python",
   "name": "python",
   "nbconvert_exporter": "python",
   "pygments_lexer": "ipython3",
   "version": "3.10.14"
  }
 },
 "nbformat": 4,
 "nbformat_minor": 2
}
