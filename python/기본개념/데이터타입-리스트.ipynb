{
 "cells": [
  {
   "cell_type": "code",
   "execution_count": 8,
   "metadata": {},
   "outputs": [],
   "source": [
    "# 리스트 생성\n",
    "a = []              # 빈 리스트 생성 => object 생성\n",
    "b = [1,'a', [1,2]]  # 아무거나 다 저장 가능\n",
    "c = list()          # 빈 리스트 생성 => object 생성"
   ]
  },
  {
   "cell_type": "code",
   "execution_count": 11,
   "metadata": {},
   "outputs": [
    {
     "name": "stdout",
     "output_type": "stream",
     "text": [
      "[1, 2, 3]\n",
      "2\n",
      "[1, 5, 3]\n"
     ]
    }
   ],
   "source": [
    "# 리스트 인덱싱, 슬라이싱\n",
    "# 리스트 => 튜플 => 문자열 상속\n",
    "a = [1,2,3]\n",
    "print(a)\n",
    "print(a[1])\n",
    "a[1] = 5\n",
    "print(a)"
   ]
  },
  {
   "cell_type": "code",
   "execution_count": 14,
   "metadata": {},
   "outputs": [
    {
     "name": "stdout",
     "output_type": "stream",
     "text": [
      "2100274119616 2100274119616\n",
      "a :  [1, 5, 3]\n"
     ]
    }
   ],
   "source": [
    "a = [1,2,3]\n",
    "b = a\n",
    "print(id(a), id(b))\n",
    "b[1] = 5\n",
    "print('a : ', a)"
   ]
  },
  {
   "cell_type": "code",
   "execution_count": 17,
   "metadata": {},
   "outputs": [
    {
     "name": "stdout",
     "output_type": "stream",
     "text": [
      "2100274306624 2100274224576\n",
      "a :  [1, 2, 3]\n",
      "b :  [1, 5, 3]\n"
     ]
    }
   ],
   "source": [
    "# 복제 필요\n",
    "a = [1,2,3]\n",
    "# b = a.copy() # 복사해서 대입\n",
    "b = a[:] # 복사된다. 슬라이싱\n",
    "print(id(a), id(b))\n",
    "b[1] = 5 # 인덱싱\n",
    "print('a : ', a)\n",
    "print('b : ', b)"
   ]
  },
  {
   "cell_type": "code",
   "execution_count": 19,
   "metadata": {},
   "outputs": [
    {
     "name": "stdout",
     "output_type": "stream",
     "text": [
      "[1, 2, ['a', 'b', ['Life', 'is']]]\n",
      "Life\n"
     ]
    }
   ],
   "source": [
    "a = [1,2,['a','b',['Life','is']]]\n",
    "print(a)\n",
    "print(a[2][2][0])"
   ]
  },
  {
   "cell_type": "code",
   "execution_count": 20,
   "metadata": {},
   "outputs": [
    {
     "name": "stdout",
     "output_type": "stream",
     "text": [
      "[1, 2]\n"
     ]
    }
   ],
   "source": [
    "# 리스트 슬라이싱\n",
    "a = [1,2,3,4,5]\n",
    "print(a[0:2])"
   ]
  },
  {
   "cell_type": "code",
   "execution_count": 21,
   "metadata": {},
   "outputs": [
    {
     "name": "stdout",
     "output_type": "stream",
     "text": [
      "12\n"
     ]
    }
   ],
   "source": [
    "a = '12345'\n",
    "print(a[0:2])"
   ]
  },
  {
   "cell_type": "code",
   "execution_count": 26,
   "metadata": {},
   "outputs": [
    {
     "name": "stdout",
     "output_type": "stream",
     "text": [
      "['a', 'b', 'c']\n",
      "['a', 'b']\n"
     ]
    }
   ],
   "source": [
    "a = [1,2,3,['a','b','c'],4,5]\n",
    "print(a[3])\n",
    "print(a[3][0:2])"
   ]
  },
  {
   "cell_type": "code",
   "execution_count": 27,
   "metadata": {},
   "outputs": [
    {
     "name": "stdout",
     "output_type": "stream",
     "text": [
      "[1, 2, 3, 4, 5, 6]\n"
     ]
    }
   ],
   "source": [
    "# 리스트 연산자 (+)\n",
    "a = [1,2,3]\n",
    "b = [4,5,6]\n",
    "print(a + b) # __add__() 메소드가 호출된 것이다."
   ]
  },
  {
   "cell_type": "code",
   "execution_count": 28,
   "metadata": {},
   "outputs": [
    {
     "name": "stdout",
     "output_type": "stream",
     "text": [
      "[1, 2, 3, 1, 2, 3, 1, 2, 3]\n"
     ]
    }
   ],
   "source": [
    "# * \n",
    "print(a * 3) # __mul__() "
   ]
  },
  {
   "cell_type": "code",
   "execution_count": 35,
   "metadata": {},
   "outputs": [
    {
     "name": "stdout",
     "output_type": "stream",
     "text": [
      "[1, 2, 4]\n",
      "[1, 'a', 'b', 'c', 4]\n",
      "b\n"
     ]
    }
   ],
   "source": [
    "# 리스트의 수정, 변경과 삭제\n",
    "# 수정\n",
    "a = [1,2,3]\n",
    "a[2] = 4\n",
    "print(a) # [1, 2, 4]\n",
    "# a[1] = ['a','b','c']\n",
    "# print(a) # [1, ['a', 'b', 'c'], 4]\n",
    "# # 'b' 출력 : a[1][1]\n",
    "# print(a[1][1])\n",
    "# [1, 'a', 'b', 'c', 4]\n",
    "# a[1:2]\n",
    "a[1:2] = ['a','b','c']\n",
    "print(a)\n",
    "print(a[2])"
   ]
  },
  {
   "cell_type": "code",
   "execution_count": 36,
   "metadata": {},
   "outputs": [
    {
     "name": "stdout",
     "output_type": "stream",
     "text": [
      "[1, 'c', 4]\n"
     ]
    }
   ],
   "source": [
    "# 슬라이싱(여러개)의 삭제\n",
    "a = [1, 'a', 'b', 'c', 4] # [1, 'c', 4] \n",
    "a[1:3] = [] # 빈 리스트 \n",
    "print(a)"
   ]
  },
  {
   "cell_type": "code",
   "execution_count": 37,
   "metadata": {},
   "outputs": [
    {
     "name": "stdout",
     "output_type": "stream",
     "text": [
      "[1, 4]\n"
     ]
    }
   ],
   "source": [
    "# a[1:2] = []\n",
    "del a[1]\n",
    "print(a)"
   ]
  },
  {
   "cell_type": "markdown",
   "metadata": {},
   "source": [
    "---\n",
    "<h3>리스트 관련 메소드</h3>\n",
    "\n",
    "---"
   ]
  },
  {
   "cell_type": "code",
   "execution_count": 1,
   "metadata": {},
   "outputs": [
    {
     "name": "stdout",
     "output_type": "stream",
     "text": [
      "[1, 2, 3, 4]\n"
     ]
    }
   ],
   "source": [
    "# append(parameter) : parameter 들러온 값을 끝에 추가\n",
    "a = [1,2,3] # list creation\n",
    "a.append(4)\n",
    "print(a)"
   ]
  },
  {
   "cell_type": "code",
   "execution_count": 5,
   "metadata": {},
   "outputs": [
    {
     "name": "stdout",
     "output_type": "stream",
     "text": [
      "[4, 3, 2, 1]\n",
      "[1, 2, 3, 4]\n",
      "['a', 'b', 'c']\n"
     ]
    }
   ],
   "source": [
    "# sort() : 정렬\n",
    "a = [1,4,3,2] # 원본 데이터\n",
    "a.sort() # default ASC \n",
    "print(a[::-1]) # DESC [start :stop : step ]\n",
    "print(a) # ASC\n",
    "\n",
    "a = ['a','c','b']\n",
    "a.sort()\n",
    "print(a)"
   ]
  },
  {
   "cell_type": "code",
   "execution_count": 6,
   "metadata": {},
   "outputs": [
    {
     "name": "stdout",
     "output_type": "stream",
     "text": [
      "['b', 'c', 'a']\n"
     ]
    }
   ],
   "source": [
    "# reverse 뒤집기\n",
    "a = ['a','c','b']\n",
    "a.reverse()\n",
    "print(a)"
   ]
  },
  {
   "cell_type": "code",
   "execution_count": 9,
   "metadata": {},
   "outputs": [
    {
     "data": {
      "text/plain": [
       "2"
      ]
     },
     "execution_count": 9,
     "metadata": {},
     "output_type": "execute_result"
    }
   ],
   "source": [
    "# 위치반환 : index(value) => value의 index 반환, value가 없으면 예외 발생\n",
    "a = [1,2,3]\n",
    "a.index(3)"
   ]
  },
  {
   "cell_type": "code",
   "execution_count": null,
   "metadata": {},
   "outputs": [
    {
     "name": "stdout",
     "output_type": "stream",
     "text": [
      "[4, 1, 5, 2, 3]\n"
     ]
    }
   ],
   "source": [
    "# 요소 삽입 : insert(position, value) => position : index\n",
    "a = [1,2,3]\n",
    "a.insert(0,4)\n",
    "a.insert(2,5)\n",
    "print(a)"
   ]
  },
  {
   "cell_type": "code",
   "execution_count": 12,
   "metadata": {},
   "outputs": [
    {
     "name": "stdout",
     "output_type": "stream",
     "text": [
      "[2, 3, 1, 2, 3]\n"
     ]
    }
   ],
   "source": [
    "# 요소 제거 : remove(value)\n",
    "a = [1,2,3,1,2,3]\n",
    "a.remove(1) # 제거 후 버린다\n",
    "print(a)"
   ]
  },
  {
   "cell_type": "code",
   "execution_count": 15,
   "metadata": {},
   "outputs": [
    {
     "name": "stdout",
     "output_type": "stream",
     "text": [
      "[1, 2] 3\n",
      "[1] 2\n"
     ]
    }
   ],
   "source": [
    "# 꺼낸 후 제거 : pop() : 마지막 , pop(index) : 위치 지정\n",
    "a = [1,2,3]\n",
    "b = a.pop()\n",
    "print(a , b)\n",
    "\n",
    "c = a.pop(1)\n",
    "print(a, c)"
   ]
  },
  {
   "cell_type": "code",
   "execution_count": 17,
   "metadata": {},
   "outputs": [
    {
     "data": {
      "text/plain": [
       "2"
      ]
     },
     "execution_count": 17,
     "metadata": {},
     "output_type": "execute_result"
    }
   ],
   "source": [
    "# 개수 : count(value)\n",
    "a = [1,2,3,1]\n",
    "a.count(1) # 1의 개수 2개다"
   ]
  },
  {
   "cell_type": "code",
   "execution_count": 20,
   "metadata": {},
   "outputs": [
    {
     "name": "stdout",
     "output_type": "stream",
     "text": [
      "[1, 2, 3, 4, 5]\n"
     ]
    },
    {
     "ename": "",
     "evalue": "",
     "output_type": "error",
     "traceback": [
      "\u001b[1;31m현재 셀 또는 이전 셀에서 코드를 실행하는 동안 Kernel이 충돌했습니다. \n",
      "\u001b[1;31m셀의 코드를 검토하여 가능한 오류 원인을 식별하세요. \n",
      "\u001b[1;31m자세한 내용을 보려면 <a href='https://aka.ms/vscodeJupyterKernelCrash'>여기</a>를 클릭하세요. \n",
      "\u001b[1;31m자세한 내용은 Jupyter <a href='command:jupyter.viewOutput'>로그</a>를 참조하세요."
     ]
    }
   ],
   "source": [
    "# 확장 : extend([])\n",
    "a = [1,2,3]\n",
    "b = [4,5]\n",
    "# a = a + b\n",
    "a.extend(b)\n",
    "print(a)\n"
   ]
  },
  {
   "cell_type": "code",
   "execution_count": null,
   "metadata": {},
   "outputs": [],
   "source": []
  },
  {
   "cell_type": "code",
   "execution_count": null,
   "metadata": {},
   "outputs": [],
   "source": []
  }
 ],
 "metadata": {
  "kernelspec": {
   "display_name": "test",
   "language": "python",
   "name": "python3"
  },
  "language_info": {
   "codemirror_mode": {
    "name": "ipython",
    "version": 3
   },
   "file_extension": ".py",
   "mimetype": "text/x-python",
   "name": "python",
   "nbconvert_exporter": "python",
   "pygments_lexer": "ipython3",
   "version": "3.10.14"
  }
 },
 "nbformat": 4,
 "nbformat_minor": 2
}
