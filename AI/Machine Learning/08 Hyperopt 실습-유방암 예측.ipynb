{
 "cells": [
  {
   "cell_type": "code",
   "execution_count": 1,
   "metadata": {},
   "outputs": [
    {
     "name": "stdout",
     "output_type": "stream",
     "text": [
      "0.2.7\n"
     ]
    }
   ],
   "source": [
    "# best hyper parameter search\n",
    "import hyperopt\n",
    "\n",
    "print(hyperopt.__version__)"
   ]
  },
  {
   "cell_type": "code",
   "execution_count": 3,
   "metadata": {},
   "outputs": [],
   "source": [
    "# x**2-20y 최소되는 x, y 구해보자\n",
    "# 1. search space\n",
    "from hyperopt import hp\n",
    "\n",
    "search_space={\n",
    "    'x':hp.quniform('x',-10,10,1) # -10 < x < 10\n",
    "    , 'y':hp.quniform('y',-15,15,1) # -15 < y <15\n",
    "}"
   ]
  },
  {
   "cell_type": "code",
   "execution_count": 4,
   "metadata": {},
   "outputs": [],
   "source": [
    "from hyperopt import STATUS_OK\n",
    "\n",
    "# 목적 함수를 생성. 변숫값과 변수 검색 공간을 가지는 딕셔너리를 인자로 받고, 특정 값을 반환\n",
    "def objective_func(search_space): # 입력값, 파라미터\n",
    "    x = search_space['x']\n",
    "    y = search_space['y']\n",
    "    retval = x**2 - 20*y\n",
    "    \n",
    "    return retval # 결과값이 리턴되게 지정해야 한다"
   ]
  },
  {
   "cell_type": "code",
   "execution_count": 5,
   "metadata": {},
   "outputs": [
    {
     "name": "stdout",
     "output_type": "stream",
     "text": [
      "100%|██████████| 5/5 [00:00<00:00, 754.94trial/s, best loss: -224.0]\n",
      "best: {'x': np.float64(-4.0), 'y': np.float64(12.0)}\n"
     ]
    }
   ],
   "source": [
    "from hyperopt import fmin, tpe, Trials\n",
    "import numpy as np\n",
    "\n",
    "# 입력 결괏값을 저장한 Trials 객체값 생성.\n",
    "trial_val = Trials()\n",
    "\n",
    "# 목적 함수의 최솟값을 반환하는 최적 입력 변숫값을 5번의 입력값 시도(max_evals=5)로 찾아냄.\n",
    "best_01 = fmin(fn=objective_func, space=search_space, algo=tpe.suggest, max_evals=5\n",
    "               , trials=trial_val, rstate=np.random.default_rng(seed=0))\n",
    "print('best:', best_01)"
   ]
  },
  {
   "cell_type": "code",
   "execution_count": 7,
   "metadata": {},
   "outputs": [
    {
     "name": "stdout",
     "output_type": "stream",
     "text": [
      "100%|██████████| 20/20 [00:00<00:00, 1666.69trial/s, best loss: -296.0]\n",
      "best: {'x': np.float64(2.0), 'y': np.float64(15.0)}\n"
     ]
    }
   ],
   "source": [
    "trial_val = Trials()\n",
    "\n",
    "# max_evals를 20회로 늘려서 재테스트\n",
    "best_02 = fmin(fn=objective_func, space=search_space, algo=tpe.suggest, max_evals=20\n",
    "               , trials=trial_val, rstate=np.random.default_rng(seed=0))\n",
    "print('best:', best_02)"
   ]
  },
  {
   "cell_type": "code",
   "execution_count": 9,
   "metadata": {},
   "outputs": [
    {
     "name": "stdout",
     "output_type": "stream",
     "text": [
      "100%|██████████| 50/50 [00:00<00:00, 355.68trial/s, best loss: -296.0]\n",
      "best: {'x': np.float64(2.0), 'y': np.float64(15.0)}\n"
     ]
    }
   ],
   "source": [
    "trial_val = Trials()\n",
    "\n",
    "# max_evals를 20회로 늘려서 재테스트\n",
    "best_02 = fmin(fn=objective_func, space=search_space, algo=tpe.suggest, max_evals=50\n",
    "               , trials=trial_val, rstate=np.random.default_rng(seed=0))\n",
    "print('best:', best_02)"
   ]
  },
  {
   "cell_type": "code",
   "execution_count": 10,
   "metadata": {},
   "outputs": [],
   "source": [
    "# Hyperopt, xgboost 사용한 하이퍼 파라미터 최적화\n",
    "\n",
    "import pandas as pd\n",
    "import numpy as np\n",
    "from sklearn.datasets import load_breast_cancer\n",
    "from sklearn.model_selection import train_test_split\n",
    "import warnings\n",
    "warnings.filterwarnings('ignore')\n",
    "\n",
    "dataset = load_breast_cancer() # 유방암 데이터 셋\n",
    "\n",
    "cancer_df = pd.DataFrame(data=dataset.data, columns=dataset.feature_names)\n",
    "cancer_df['target']= dataset.target\n",
    "X_features = cancer_df.iloc[:, :-1] # 데이터 추출\n",
    "y_label = cancer_df.iloc[:, -1] # 레이블 추출"
   ]
  },
  {
   "cell_type": "code",
   "execution_count": 11,
   "metadata": {},
   "outputs": [],
   "source": [
    "# 데이터를 학습(X_tr), 검증(X_val), 테스트(X_test) 분리\n",
    "# 전체 데이터 중 80%는 학습용 데이터, 20%는 테스트용 데이터 추출\n",
    "X_train, X_test, y_train, y_test=train_test_split(X_features, y_label, test_size=0.2, random_state=156 )\n",
    "\n",
    "# 앞에서 추출한 학습 데이터를 다시 학습과 검증 데이터로 분리\n",
    "X_tr, X_val, y_tr, y_val= train_test_split(X_train, y_train, test_size=0.1, random_state=156 )"
   ]
  },
  {
   "cell_type": "code",
   "execution_count": 12,
   "metadata": {},
   "outputs": [],
   "source": [
    "# search space 설정\n",
    "from hyperopt import hp\n",
    "\n",
    "# max_depth는 5에서 20까지 1간격으로, min_child_weight는 1에서 2까지 1간격으로\n",
    "# colsample_bytree는 0.5에서 1사이, learning_rate는 0.01에서 0.2 사이 정규 분포된 값으로 검색.\n",
    "xgb_search_space = {'max_depth': hp.quniform('max_depth', 5, 20, 1), # 5부터20까지 1씩 증가\n",
    "                    'min_child_weight': hp.quniform('min_child_weight', 1, 2, 1), # 1, 2\n",
    "                    'learning_rate': hp.uniform('learning_rate', 0.01, 0.2),\n",
    "                    'colsample_bytree': hp.uniform('colsample_bytree', 0.5, 1) # 컬럼 개수 : 0.5 ~ 1\n",
    "                   }"
   ]
  },
  {
   "cell_type": "code",
   "execution_count": 13,
   "metadata": {},
   "outputs": [],
   "source": [
    "from sklearn.model_selection import cross_val_score # 교차 검증 정확도 점수만 출력\n",
    "from xgboost import XGBClassifier # 분류 모델\n",
    "from hyperopt import STATUS_OK\n",
    "\n",
    "# fmin()에서 입력된 search_space 값으로 입력된 모든 값은 실수형임.\n",
    "# XGBClassifier의 정수형 하이퍼 파라미터는 정수형 변환을 해줘야 함.\n",
    "# 정확도는 높을수록 더 좋은 수치임. -1 * 정확도를 곱해서 큰 정확도 값일수록 최소가 되도록 변환\n",
    "def objective_func(search_space):\n",
    "    # 수행 시간 절약을 위해 nestimators(트리개수)는 100으로 축소\n",
    "    xgb_clf = XGBClassifier(n_estimators=100, max_depth=int(search_space['max_depth']),\n",
    "                            min_child_weight=int(search_space['min_child_weight']),\n",
    "                            learning_rate=search_space['learning_rate'],\n",
    "                            colsample_bytree=search_space['colsample_bytree'],\n",
    "                            eval_metric='logloss') # 평가지표 \n",
    "    accuracy = cross_val_score(xgb_clf, X_train, y_train, scoring='accuracy', cv=3)\n",
    "    \n",
    "    # accuracy는 cv=3 개수만큼 roc-auc 결과를 리스트로 가짐. 이를 평균해서 반환하되 -1을 곱함.\n",
    "    return {'loss':-1 * np.mean(accuracy), 'status': STATUS_OK}\n"
   ]
  },
  {
   "cell_type": "code",
   "execution_count": 14,
   "metadata": {},
   "outputs": [
    {
     "name": "stdout",
     "output_type": "stream",
     "text": [
      "100%|██████████| 50/50 [00:10<00:00,  4.78trial/s, best loss: -0.964868711513884] \n",
      "best: {'colsample_bytree': np.float64(0.5325012994457242), 'learning_rate': np.float64(0.09177140952220303), 'max_depth': np.float64(9.0), 'min_child_weight': np.float64(2.0)}\n"
     ]
    }
   ],
   "source": [
    "from hyperopt import fmin, tpe, Trials\n",
    "\n",
    "trial_val = Trials()\n",
    "# fmin => best hyper parameter value return {파라미터명:값,} => best\n",
    "best = fmin(fn=objective_func,\n",
    "            space=xgb_search_space,\n",
    "            algo=tpe.suggest,\n",
    "            max_evals=50, # 최대 반복 횟수를 지정합니다.\n",
    "            trials=trial_val, rstate=np.random.default_rng(seed=9))\n",
    "print('best:', best) # 베스트 파라미터 값 추출\n"
   ]
  },
  {
   "cell_type": "code",
   "execution_count": 15,
   "metadata": {},
   "outputs": [],
   "source": [
    "# 모델 생성 성능 평가 : get_clf_eval(원래답, 예측값, 예측확률)\n",
    "from sklearn.metrics import confusion_matrix, accuracy_score\n",
    "from sklearn.metrics import precision_score, recall_score\n",
    "from sklearn.metrics import f1_score, roc_auc_score\n",
    "\n",
    "def get_clf_eval(y_test, pred=None, pred_proba=None):\n",
    "    confusion = confusion_matrix( y_test, pred)\n",
    "    accuracy = accuracy_score(y_test , pred) # 정확도 점수\n",
    "    precision = precision_score(y_test , pred) # 정밀도 점수\n",
    "    recall = recall_score(y_test , pred) # 재현율 점수\n",
    "    f1 = f1_score(y_test,pred) # 정밀도, 재현율 조화평균 값\n",
    "    # ROC-AUC 추가 \n",
    "    roc_auc = roc_auc_score(y_test, pred_proba) # AUC 점수 : 불균형 데이터 셋에서 필요\n",
    "    print('오차 행렬')\n",
    "    print(confusion)\n",
    "    # ROC-AUC print 추가\n",
    "    print('정확도: {0:.4f}, 정밀도: {1:.4f}, 재현율: {2:.4f},\\\n",
    "    F1: {3:.4f}, AUC:{4:.4f}'.format(accuracy, precision, recall, f1, roc_auc))"
   ]
  },
  {
   "cell_type": "code",
   "execution_count": 17,
   "metadata": {},
   "outputs": [
    {
     "name": "stdout",
     "output_type": "stream",
     "text": [
      "[0]\tvalidation_0-logloss:0.61629\tvalidation_1-logloss:0.63904\n",
      "[1]\tvalidation_0-logloss:0.55204\tvalidation_1-logloss:0.59014\n",
      "[2]\tvalidation_0-logloss:0.49683\tvalidation_1-logloss:0.54821\n",
      "[3]\tvalidation_0-logloss:0.44952\tvalidation_1-logloss:0.51168\n",
      "[4]\tvalidation_0-logloss:0.40869\tvalidation_1-logloss:0.48798\n",
      "[5]\tvalidation_0-logloss:0.37268\tvalidation_1-logloss:0.46103\n",
      "[6]\tvalidation_0-logloss:0.34113\tvalidation_1-logloss:0.43617\n",
      "[7]\tvalidation_0-logloss:0.31374\tvalidation_1-logloss:0.41579\n",
      "[8]\tvalidation_0-logloss:0.28843\tvalidation_1-logloss:0.39682\n",
      "[9]\tvalidation_0-logloss:0.26602\tvalidation_1-logloss:0.38102\n",
      "[10]\tvalidation_0-logloss:0.24510\tvalidation_1-logloss:0.36633\n",
      "[11]\tvalidation_0-logloss:0.22734\tvalidation_1-logloss:0.35490\n",
      "[12]\tvalidation_0-logloss:0.21173\tvalidation_1-logloss:0.34546\n",
      "[13]\tvalidation_0-logloss:0.19749\tvalidation_1-logloss:0.33745\n",
      "[14]\tvalidation_0-logloss:0.18436\tvalidation_1-logloss:0.32815\n",
      "[15]\tvalidation_0-logloss:0.17305\tvalidation_1-logloss:0.31941\n",
      "[16]\tvalidation_0-logloss:0.16263\tvalidation_1-logloss:0.31173\n",
      "[17]\tvalidation_0-logloss:0.15250\tvalidation_1-logloss:0.30524\n",
      "[18]\tvalidation_0-logloss:0.14186\tvalidation_1-logloss:0.29628\n",
      "[19]\tvalidation_0-logloss:0.13297\tvalidation_1-logloss:0.29130\n",
      "[20]\tvalidation_0-logloss:0.12476\tvalidation_1-logloss:0.28729\n",
      "[21]\tvalidation_0-logloss:0.11751\tvalidation_1-logloss:0.28419\n",
      "[22]\tvalidation_0-logloss:0.11073\tvalidation_1-logloss:0.28050\n",
      "[23]\tvalidation_0-logloss:0.10469\tvalidation_1-logloss:0.27806\n",
      "[24]\tvalidation_0-logloss:0.09954\tvalidation_1-logloss:0.27507\n",
      "[25]\tvalidation_0-logloss:0.09428\tvalidation_1-logloss:0.27508\n",
      "[26]\tvalidation_0-logloss:0.08983\tvalidation_1-logloss:0.27373\n",
      "[27]\tvalidation_0-logloss:0.08579\tvalidation_1-logloss:0.27371\n",
      "[28]\tvalidation_0-logloss:0.08184\tvalidation_1-logloss:0.27306\n",
      "[29]\tvalidation_0-logloss:0.07765\tvalidation_1-logloss:0.26812\n",
      "[30]\tvalidation_0-logloss:0.07482\tvalidation_1-logloss:0.26697\n",
      "[31]\tvalidation_0-logloss:0.07181\tvalidation_1-logloss:0.26761\n",
      "[32]\tvalidation_0-logloss:0.06841\tvalidation_1-logloss:0.26508\n",
      "[33]\tvalidation_0-logloss:0.06614\tvalidation_1-logloss:0.26569\n",
      "[34]\tvalidation_0-logloss:0.06323\tvalidation_1-logloss:0.26343\n",
      "[35]\tvalidation_0-logloss:0.06048\tvalidation_1-logloss:0.26014\n",
      "[36]\tvalidation_0-logloss:0.05800\tvalidation_1-logloss:0.25791\n",
      "[37]\tvalidation_0-logloss:0.05568\tvalidation_1-logloss:0.25806\n",
      "[38]\tvalidation_0-logloss:0.05364\tvalidation_1-logloss:0.25818\n",
      "[39]\tvalidation_0-logloss:0.05179\tvalidation_1-logloss:0.25996\n",
      "[40]\tvalidation_0-logloss:0.04989\tvalidation_1-logloss:0.26097\n",
      "[41]\tvalidation_0-logloss:0.04854\tvalidation_1-logloss:0.26142\n",
      "[42]\tvalidation_0-logloss:0.04720\tvalidation_1-logloss:0.26322\n",
      "[43]\tvalidation_0-logloss:0.04592\tvalidation_1-logloss:0.26201\n",
      "[44]\tvalidation_0-logloss:0.04441\tvalidation_1-logloss:0.26333\n",
      "[45]\tvalidation_0-logloss:0.04324\tvalidation_1-logloss:0.26415\n",
      "[46]\tvalidation_0-logloss:0.04203\tvalidation_1-logloss:0.26484\n",
      "[47]\tvalidation_0-logloss:0.04094\tvalidation_1-logloss:0.26397\n",
      "[48]\tvalidation_0-logloss:0.04003\tvalidation_1-logloss:0.26409\n",
      "[49]\tvalidation_0-logloss:0.03914\tvalidation_1-logloss:0.26039\n",
      "[50]\tvalidation_0-logloss:0.03818\tvalidation_1-logloss:0.26062\n",
      "[51]\tvalidation_0-logloss:0.03727\tvalidation_1-logloss:0.25807\n",
      "[52]\tvalidation_0-logloss:0.03656\tvalidation_1-logloss:0.25822\n",
      "[53]\tvalidation_0-logloss:0.03573\tvalidation_1-logloss:0.25807\n",
      "[54]\tvalidation_0-logloss:0.03486\tvalidation_1-logloss:0.25766\n",
      "[55]\tvalidation_0-logloss:0.03381\tvalidation_1-logloss:0.25857\n",
      "[56]\tvalidation_0-logloss:0.03329\tvalidation_1-logloss:0.25989\n",
      "[57]\tvalidation_0-logloss:0.03269\tvalidation_1-logloss:0.25999\n",
      "[58]\tvalidation_0-logloss:0.03212\tvalidation_1-logloss:0.25794\n",
      "[59]\tvalidation_0-logloss:0.03161\tvalidation_1-logloss:0.25635\n",
      "[60]\tvalidation_0-logloss:0.03094\tvalidation_1-logloss:0.25835\n",
      "[61]\tvalidation_0-logloss:0.03041\tvalidation_1-logloss:0.25902\n",
      "[62]\tvalidation_0-logloss:0.03005\tvalidation_1-logloss:0.26129\n",
      "[63]\tvalidation_0-logloss:0.02958\tvalidation_1-logloss:0.25878\n",
      "[64]\tvalidation_0-logloss:0.02910\tvalidation_1-logloss:0.26068\n",
      "[65]\tvalidation_0-logloss:0.02868\tvalidation_1-logloss:0.25835\n",
      "[66]\tvalidation_0-logloss:0.02826\tvalidation_1-logloss:0.25876\n",
      "[67]\tvalidation_0-logloss:0.02791\tvalidation_1-logloss:0.26020\n",
      "[68]\tvalidation_0-logloss:0.02752\tvalidation_1-logloss:0.26062\n",
      "[69]\tvalidation_0-logloss:0.02719\tvalidation_1-logloss:0.25724\n",
      "[70]\tvalidation_0-logloss:0.02688\tvalidation_1-logloss:0.25854\n",
      "[71]\tvalidation_0-logloss:0.02656\tvalidation_1-logloss:0.25731\n",
      "[72]\tvalidation_0-logloss:0.02620\tvalidation_1-logloss:0.25774\n",
      "[73]\tvalidation_0-logloss:0.02591\tvalidation_1-logloss:0.25746\n",
      "[74]\tvalidation_0-logloss:0.02562\tvalidation_1-logloss:0.25429\n",
      "[75]\tvalidation_0-logloss:0.02535\tvalidation_1-logloss:0.25306\n",
      "[76]\tvalidation_0-logloss:0.02503\tvalidation_1-logloss:0.25350\n",
      "[77]\tvalidation_0-logloss:0.02489\tvalidation_1-logloss:0.25357\n",
      "[78]\tvalidation_0-logloss:0.02451\tvalidation_1-logloss:0.25148\n",
      "[79]\tvalidation_0-logloss:0.02428\tvalidation_1-logloss:0.24981\n",
      "[80]\tvalidation_0-logloss:0.02397\tvalidation_1-logloss:0.24907\n",
      "[81]\tvalidation_0-logloss:0.02385\tvalidation_1-logloss:0.25066\n",
      "[82]\tvalidation_0-logloss:0.02373\tvalidation_1-logloss:0.24965\n",
      "[83]\tvalidation_0-logloss:0.02340\tvalidation_1-logloss:0.24776\n",
      "[84]\tvalidation_0-logloss:0.02317\tvalidation_1-logloss:0.24666\n",
      "[85]\tvalidation_0-logloss:0.02287\tvalidation_1-logloss:0.24773\n",
      "[86]\tvalidation_0-logloss:0.02269\tvalidation_1-logloss:0.24886\n",
      "[87]\tvalidation_0-logloss:0.02250\tvalidation_1-logloss:0.24896\n",
      "[88]\tvalidation_0-logloss:0.02220\tvalidation_1-logloss:0.24690\n",
      "[89]\tvalidation_0-logloss:0.02209\tvalidation_1-logloss:0.24653\n",
      "[90]\tvalidation_0-logloss:0.02198\tvalidation_1-logloss:0.24782\n",
      "[91]\tvalidation_0-logloss:0.02188\tvalidation_1-logloss:0.24791\n",
      "[92]\tvalidation_0-logloss:0.02177\tvalidation_1-logloss:0.24916\n",
      "[93]\tvalidation_0-logloss:0.02167\tvalidation_1-logloss:0.24910\n",
      "[94]\tvalidation_0-logloss:0.02157\tvalidation_1-logloss:0.24812\n",
      "[95]\tvalidation_0-logloss:0.02147\tvalidation_1-logloss:0.24933\n",
      "[96]\tvalidation_0-logloss:0.02129\tvalidation_1-logloss:0.24941\n",
      "[97]\tvalidation_0-logloss:0.02120\tvalidation_1-logloss:0.24909\n",
      "[98]\tvalidation_0-logloss:0.02111\tvalidation_1-logloss:0.25028\n",
      "[99]\tvalidation_0-logloss:0.02102\tvalidation_1-logloss:0.25036\n",
      "[100]\tvalidation_0-logloss:0.02094\tvalidation_1-logloss:0.25151\n",
      "[101]\tvalidation_0-logloss:0.02076\tvalidation_1-logloss:0.25177\n",
      "[102]\tvalidation_0-logloss:0.02068\tvalidation_1-logloss:0.25186\n",
      "[103]\tvalidation_0-logloss:0.02060\tvalidation_1-logloss:0.25300\n",
      "[104]\tvalidation_0-logloss:0.02053\tvalidation_1-logloss:0.25309\n",
      "[105]\tvalidation_0-logloss:0.02043\tvalidation_1-logloss:0.25207\n",
      "[106]\tvalidation_0-logloss:0.02034\tvalidation_1-logloss:0.25114\n",
      "[107]\tvalidation_0-logloss:0.02027\tvalidation_1-logloss:0.25112\n",
      "[108]\tvalidation_0-logloss:0.02018\tvalidation_1-logloss:0.25227\n",
      "[109]\tvalidation_0-logloss:0.02011\tvalidation_1-logloss:0.25336\n",
      "[110]\tvalidation_0-logloss:0.02004\tvalidation_1-logloss:0.25322\n",
      "[111]\tvalidation_0-logloss:0.01996\tvalidation_1-logloss:0.25231\n",
      "[112]\tvalidation_0-logloss:0.01989\tvalidation_1-logloss:0.25147\n",
      "[113]\tvalidation_0-logloss:0.01982\tvalidation_1-logloss:0.25133\n",
      "[114]\tvalidation_0-logloss:0.01976\tvalidation_1-logloss:0.25259\n",
      "[115]\tvalidation_0-logloss:0.01969\tvalidation_1-logloss:0.25256\n",
      "[116]\tvalidation_0-logloss:0.01962\tvalidation_1-logloss:0.25364\n",
      "[117]\tvalidation_0-logloss:0.01956\tvalidation_1-logloss:0.25283\n",
      "[118]\tvalidation_0-logloss:0.01949\tvalidation_1-logloss:0.25125\n",
      "[119]\tvalidation_0-logloss:0.01943\tvalidation_1-logloss:0.25174\n",
      "[120]\tvalidation_0-logloss:0.01937\tvalidation_1-logloss:0.25218\n",
      "[121]\tvalidation_0-logloss:0.01930\tvalidation_1-logloss:0.25061\n",
      "[122]\tvalidation_0-logloss:0.01923\tvalidation_1-logloss:0.25032\n",
      "[123]\tvalidation_0-logloss:0.01917\tvalidation_1-logloss:0.25041\n",
      "[124]\tvalidation_0-logloss:0.01910\tvalidation_1-logloss:0.25154\n",
      "[125]\tvalidation_0-logloss:0.01903\tvalidation_1-logloss:0.25128\n",
      "[126]\tvalidation_0-logloss:0.01897\tvalidation_1-logloss:0.25050\n",
      "[127]\tvalidation_0-logloss:0.01891\tvalidation_1-logloss:0.25026\n",
      "[128]\tvalidation_0-logloss:0.01885\tvalidation_1-logloss:0.25136\n",
      "[129]\tvalidation_0-logloss:0.01879\tvalidation_1-logloss:0.25241\n",
      "[130]\tvalidation_0-logloss:0.01873\tvalidation_1-logloss:0.25154\n",
      "[131]\tvalidation_0-logloss:0.01868\tvalidation_1-logloss:0.25005\n",
      "[132]\tvalidation_0-logloss:0.01862\tvalidation_1-logloss:0.24931\n",
      "[133]\tvalidation_0-logloss:0.01856\tvalidation_1-logloss:0.24979\n",
      "[134]\tvalidation_0-logloss:0.01851\tvalidation_1-logloss:0.24987\n",
      "[135]\tvalidation_0-logloss:0.01845\tvalidation_1-logloss:0.25090\n",
      "[136]\tvalidation_0-logloss:0.01840\tvalidation_1-logloss:0.24945\n",
      "[137]\tvalidation_0-logloss:0.01834\tvalidation_1-logloss:0.24875\n",
      "[138]\tvalidation_0-logloss:0.01829\tvalidation_1-logloss:0.24850\n",
      "오차 행렬\n",
      "[[34  3]\n",
      " [ 3 74]]\n",
      "정확도: 0.9474, 정밀도: 0.9610, 재현율: 0.9610,    F1: 0.9610, AUC:0.9916\n"
     ]
    }
   ],
   "source": [
    "xgb_wrapper = XGBClassifier(n_estimators=400,\n",
    "                            learning_rate=round(best['learning_rate'], 5),\n",
    "                            max_depth=int(best['max_depth']),\n",
    "                            min_child_weight=int(best['min_child_weight']),\n",
    "                            colsample_bytree=round(best['colsample_bytree'], 5)\n",
    "                            , early_stopping_rounds=50\n",
    "                            , eval_metric='logloss'\n",
    "                           )\n",
    "\n",
    "evals = [(X_tr, y_tr), (X_val, y_val)]\n",
    "xgb_wrapper.fit(X_tr, y_tr,\n",
    "                eval_set=evals, verbose=True)\n",
    "\n",
    "preds = xgb_wrapper.predict(X_test) # 예측값\n",
    "pred_proba = xgb_wrapper.predict_proba(X_test)[:, 1] # 예측 확률\n",
    "\n",
    "get_clf_eval(y_test, preds, pred_proba)\n"
   ]
  },
  {
   "cell_type": "code",
   "execution_count": null,
   "metadata": {},
   "outputs": [],
   "source": []
  }
 ],
 "metadata": {
  "kernelspec": {
   "display_name": "ml-dev",
   "language": "python",
   "name": "python3"
  },
  "language_info": {
   "codemirror_mode": {
    "name": "ipython",
    "version": 3
   },
   "file_extension": ".py",
   "mimetype": "text/x-python",
   "name": "python",
   "nbconvert_exporter": "python",
   "pygments_lexer": "ipython3",
   "version": "3.10.14"
  }
 },
 "nbformat": 4,
 "nbformat_minor": 2
}
