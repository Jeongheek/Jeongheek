{
 "cells": [
  {
   "cell_type": "code",
   "execution_count": 1,
   "metadata": {},
   "outputs": [],
   "source": [
    "import numpy as np\n",
    "import pandas as pd"
   ]
  },
  {
   "cell_type": "code",
   "execution_count": 10,
   "metadata": {},
   "outputs": [
    {
     "name": "stdout",
     "output_type": "stream",
     "text": [
      "<class 'numpy.ndarray'>\n",
      "array shape :  (3,)\n",
      "array dim :  1\n"
     ]
    }
   ],
   "source": [
    "# ndarray object 생성\n",
    "# shape : 배열의 구조값 , ndim : 차원값 확인\n",
    "# 1. array function 사용\n",
    "array1 = np.array([1,2,3])\n",
    "print(type(array1))\n",
    "# print(dir(array1)) # dir : 오브젝트 멤버(변수, 메소드) 목록 출력 함수\n",
    "print('array shape : ',array1.shape)\n",
    "print('array dim : ',array1.ndim)\n"
   ]
  },
  {
   "cell_type": "code",
   "execution_count": 13,
   "metadata": {},
   "outputs": [
    {
     "name": "stdout",
     "output_type": "stream",
     "text": [
      "[[1, 2, 3], [4, 5, 6]]\n",
      "[[1 2 3]\n",
      " [4 5 6]]\n",
      "array2 shape :  (2, 3)\n",
      "array2 dim :  2\n"
     ]
    }
   ],
   "source": [
    "list_2d = [[1,2,3],[4,5,6]]\n",
    "print(list_2d) # list object\n",
    "array2 = np.array(list_2d) # ndarray object \n",
    "print(array2)\n",
    "print('array2 shape : ', array2.shape) # 배열의 구조 출력\n",
    "print('array2 dim : ', array2.ndim) # 차원을 출력\n"
   ]
  },
  {
   "cell_type": "code",
   "execution_count": 20,
   "metadata": {},
   "outputs": [
    {
     "name": "stdout",
     "output_type": "stream",
     "text": [
      "[['1' '2' 'test']]\n",
      "(1, 3)\n",
      "2\n",
      "<U21\n"
     ]
    }
   ],
   "source": [
    "list_2d=[[1,2,'test']]\n",
    "array3=np.array(list_2d)\n",
    "print(array3)\n",
    "print(array3.shape) # 1 X 3 배열, 배열 구조\n",
    "print(array3.ndim) # 2차원 배열\n",
    "print(array3.dtype)"
   ]
  },
  {
   "cell_type": "code",
   "execution_count": 26,
   "metadata": {},
   "outputs": [
    {
     "name": "stdout",
     "output_type": "stream",
     "text": [
      "int8\n",
      "float64\n",
      "int8\n"
     ]
    }
   ],
   "source": [
    "# 타입 변경 : astype('변경할타입') 메소드 => ndarray object 안에 있는 메소드\n",
    "array_int=np.array([1,2,3], dtype='int8') # 정수 타입\n",
    "print(array_int.dtype)\n",
    "# 실수로 변환\n",
    "array_float=array_int.astype('float64')\n",
    "print(array_float.dtype)\n",
    "# 정수로 변환\n",
    "arrry_int1=array_float.astype('int8')\n",
    "print(arrry_int1.dtype)"
   ]
  },
  {
   "cell_type": "code",
   "execution_count": 29,
   "metadata": {},
   "outputs": [
    {
     "name": "stdout",
     "output_type": "stream",
     "text": [
      "[0 1 2 3 4 5 6 7 8 9]\n",
      "int64\n",
      "(10,)\n",
      "1\n"
     ]
    }
   ],
   "source": [
    "# ndarray object 생성\n",
    "# 2. arange, zeros, ones function\n",
    "# 2.1 arange([start], end, [step])\n",
    "seq_arr=np.arange(10)\n",
    "print(seq_arr)\n",
    "print(seq_arr.dtype)\n",
    "print(seq_arr.shape)\n",
    "print(seq_arr.ndim)\n"
   ]
  },
  {
   "cell_type": "code",
   "execution_count": 32,
   "metadata": {},
   "outputs": [
    {
     "name": "stdout",
     "output_type": "stream",
     "text": [
      "[[0 0]\n",
      " [0 0]\n",
      " [0 0]]\n",
      "(3, 2)\n",
      "2\n"
     ]
    }
   ],
   "source": [
    "# 2.2 zeros((행,열)) : ndarray object 생성하고 0으로 초기화\n",
    "zero_arr=np.zeros((3,2), dtype='int32')\n",
    "print(zero_arr)\n",
    "print(zero_arr.shape)\n",
    "print(zero_arr.ndim)"
   ]
  },
  {
   "cell_type": "code",
   "execution_count": 34,
   "metadata": {},
   "outputs": [
    {
     "name": "stdout",
     "output_type": "stream",
     "text": [
      "[[1 1]\n",
      " [1 1]\n",
      " [1 1]]\n",
      "(3, 2)\n",
      "int32\n"
     ]
    }
   ],
   "source": [
    "# 2.3 ones((행,열)) : ndarray object 생성하고 1로 초기화\n",
    "# one_arr=np.ones((3,2)) # default float64\n",
    "one_arr=np.ones((3,2), dtype='int32') \n",
    "print(one_arr)\n",
    "print(one_arr.shape)\n",
    "print(one_arr.dtype)"
   ]
  },
  {
   "cell_type": "code",
   "execution_count": 37,
   "metadata": {},
   "outputs": [
    {
     "name": "stdout",
     "output_type": "stream",
     "text": [
      "[0 1 2 3 4 5 6 7 8 9]\n",
      "[[0 1 2 3 4]\n",
      " [5 6 7 8 9]]\n",
      "[[0 1]\n",
      " [2 3]\n",
      " [4 5]\n",
      " [6 7]\n",
      " [8 9]]\n"
     ]
    }
   ],
   "source": [
    "# 차원과 크기 변경 : reshape()메소드\n",
    "arr1 = np.arange(10) # 10개, 1차원, 10,\n",
    "print(arr1)\n",
    "arr2=arr1.reshape(2,5) # 2행 5열 변경\n",
    "print(arr2)\n",
    "arr3=arr1.reshape(5,2)\n",
    "print(arr3)"
   ]
  },
  {
   "cell_type": "code",
   "execution_count": 40,
   "metadata": {},
   "outputs": [
    {
     "name": "stdout",
     "output_type": "stream",
     "text": [
      "[0 1 2 3 4 5 6 7 8 9]\n"
     ]
    }
   ],
   "source": [
    "# reshape() error\n",
    "print(arr1)\n",
    "# arr_err=arr1.reshape(3,4)"
   ]
  },
  {
   "cell_type": "code",
   "execution_count": 48,
   "metadata": {},
   "outputs": [
    {
     "name": "stdout",
     "output_type": "stream",
     "text": [
      "[      0       1       2 ... 1000002 1000003 1000004]\n",
      "[[      0       1       2       3       4]\n",
      " [      5       6       7       8       9]\n",
      " [     10      11      12      13      14]\n",
      " ...\n",
      " [ 999990  999991  999992  999993  999994]\n",
      " [ 999995  999996  999997  999998  999999]\n",
      " [1000000 1000001 1000002 1000003 1000004]]\n",
      "[[      0       1       2       3       4]\n",
      " [      5       6       7       8       9]\n",
      " [     10      11      12      13      14]\n",
      " ...\n",
      " [ 999990  999991  999992  999993  999994]\n",
      " [ 999995  999996  999997  999998  999999]\n",
      " [1000000 1000001 1000002 1000003 1000004]]\n",
      "[[      0       1       2 ...  199998  199999  200000]\n",
      " [ 200001  200002  200003 ...  399999  400000  400001]\n",
      " [ 400002  400003  400004 ...  600000  600001  600002]\n",
      " [ 600003  600004  600005 ...  800001  800002  800003]\n",
      " [ 800004  800005  800006 ... 1000002 1000003 1000004]]\n"
     ]
    }
   ],
   "source": [
    "# reshape 유용한 기능\n",
    "data_num=1000005\n",
    "arr1=np.arange(data_num)\n",
    "\n",
    "c_n=int(data_num/5)\n",
    "print(arr1)\n",
    "# 5열짜리로 만들고자 한다\n",
    "print(arr1.reshape(c_n,5))\n",
    "print(arr1.reshape(-1,5)) # 5개 열로 변환,  -1 => ?\n",
    "print(arr1.reshape(5,-1)) # 5개 형으로 변환"
   ]
  },
  {
   "cell_type": "code",
   "execution_count": 59,
   "metadata": {},
   "outputs": [
    {
     "name": "stdout",
     "output_type": "stream",
     "text": [
      "[[ 0  1  2]\n",
      " [ 3  4  5]\n",
      " [ 6  7  8]\n",
      " [ 9 10 11]]\n",
      "[ 0  1  2  3  4  5  6  7  8  9 10 11]\n"
     ]
    }
   ],
   "source": [
    "arr1=np.arange(12) # 12개\n",
    "# print(arr1)\n",
    "# print(arr1.ndim, '차원')\n",
    "\n",
    "# arr2=arr1.reshape(3,4)\n",
    "# print(arr2)\n",
    "# print(arr2.ndim,'차원')\n",
    "\n",
    "arr3=arr1.reshape(2,2,3)\n",
    "# print(arr3)\n",
    "# print(arr3.ndim,'차원')\n",
    "\n",
    "# arr4=arr3.reshape(-1,4)\n",
    "# print(arr4)\n",
    "# print(arr4.ndim,'차원')\n",
    "\n",
    "arr5=arr3.reshape(4,-1) # 4행짜리 ndarray 생성\n",
    "print(arr5)\n",
    "\n",
    "arr6=arr3.reshape(-1)\n",
    "print(arr6)"
   ]
  },
  {
   "cell_type": "code",
   "execution_count": 64,
   "metadata": {},
   "outputs": [
    {
     "name": "stdout",
     "output_type": "stream",
     "text": [
      "[ 0  1  2  3  4  5  6  7  8  9 10 11]\n",
      "<class 'numpy.ndarray'>\n",
      "[0, 1, 2, 3, 4, 5, 6, 7, 8, 9, 10, 11]\n",
      "<class 'numpy.ndarray'>\n"
     ]
    }
   ],
   "source": [
    "# ndarray => list로 추출\n",
    "print(arr6)\n",
    "print(type(arr6))\n",
    "print(arr6.tolist())\n",
    "print(type(arr6))"
   ]
  },
  {
   "cell_type": "code",
   "execution_count": 70,
   "metadata": {},
   "outputs": [
    {
     "name": "stdout",
     "output_type": "stream",
     "text": [
      "[1 2 3 4 5 6 7 8 9]\n",
      "[ 1  2 13  4  5  6  7  8  9]\n",
      "3\n",
      "9\n",
      "<class 'numpy.int64'>\n"
     ]
    }
   ],
   "source": [
    "# 인덱싱 어마무시 중요\n",
    "# 1. 단일값 추출\n",
    "arr1=np.arange(1,10)\n",
    "print(arr1)\n",
    "value=arr1[2]\n",
    "value1=arr1[-1]\n",
    "arr1[2]=13\n",
    "print(arr1)\n",
    "print(value)\n",
    "print(value1)\n",
    "print(type(value))"
   ]
  },
  {
   "cell_type": "code",
   "execution_count": 73,
   "metadata": {},
   "outputs": [
    {
     "name": "stdout",
     "output_type": "stream",
     "text": [
      "[1 2 3 4 5 6 7 8 9]\n",
      "[[1 2 3]\n",
      " [4 5 6]\n",
      " [7 8 9]]\n",
      "6\n"
     ]
    }
   ],
   "source": [
    "# 2차원데이터 인덱싱\n",
    "arr1d=np.arange(1,10)\n",
    "print(arr1d) # 1차원\n",
    "arr2d=arr1d.reshape(3,3)\n",
    "print(arr2d) # 2차원\n",
    "print(arr2d[1,2]) # arr2d[행,열]"
   ]
  },
  {
   "cell_type": "code",
   "execution_count": 77,
   "metadata": {},
   "outputs": [
    {
     "name": "stdout",
     "output_type": "stream",
     "text": [
      "[1 2 3 4 5 6 7 8 9]\n",
      "[1 2 3]\n",
      "<class 'numpy.ndarray'>\n"
     ]
    }
   ],
   "source": [
    "# 슬라이싱 : 연속된 여러개 추출\n",
    "arr1 = np.arange(1,10)\n",
    "print(arr1)\n",
    "arr3=arr1[0:3]\n",
    "print(arr3)\n",
    "print(type(arr3))"
   ]
  },
  {
   "cell_type": "code",
   "execution_count": 79,
   "metadata": {},
   "outputs": [
    {
     "name": "stdout",
     "output_type": "stream",
     "text": [
      "[1 2 3 4 5 6 7 8 9]\n",
      "[1 2 3]\n",
      "[4 5 6 7 8 9]\n",
      "[1 2 3 4 5 6 7 8 9]\n"
     ]
    }
   ],
   "source": [
    "# 확장 사용 => 시작인덱스 : 끝인덱스 <= 생략 형태\n",
    "print(arr1)\n",
    "\n",
    "arr4=arr1[:3] # [처음부터:3] 동일\n",
    "print(arr4)\n",
    "\n",
    "arr5=arr1[3:] # [3:끝까지] 동일\n",
    "print(arr5)\n",
    "\n",
    "arr6=arr1[:] # [처음부터:끝까지] 동일\n",
    "print(arr6)"
   ]
  },
  {
   "cell_type": "code",
   "execution_count": 82,
   "metadata": {},
   "outputs": [
    {
     "name": "stdout",
     "output_type": "stream",
     "text": [
      "[[1 2 3]\n",
      " [4 5 6]\n",
      " [7 8 9]]\n",
      "[[5 6]\n",
      " [8 9]]\n",
      "[[4 5 6]\n",
      " [7 8 9]]\n"
     ]
    }
   ],
   "source": [
    "# 2차원 데이터 슬라이싱 [행,열]\n",
    "print(arr2d)\n",
    "print(arr2d[1:,1:])\n",
    "print(arr2d[1:,:])"
   ]
  },
  {
   "cell_type": "code",
   "execution_count": 85,
   "metadata": {},
   "outputs": [
    {
     "name": "stdout",
     "output_type": "stream",
     "text": [
      "[[1 2 3]\n",
      " [4 5 6]\n",
      " [7 8 9]]\n",
      "[1 2 3]\n",
      "[4 5 6]\n",
      "[7 8 9]\n"
     ]
    }
   ],
   "source": [
    "print(arr2d)\n",
    "print(arr2d[0])\n",
    "print(arr2d[1])\n",
    "print(arr2d[2])"
   ]
  },
  {
   "cell_type": "code",
   "execution_count": 91,
   "metadata": {},
   "outputs": [
    {
     "name": "stdout",
     "output_type": "stream",
     "text": [
      "[[1 2 3]\n",
      " [4 5 6]\n",
      " [7 8 9]]\n",
      "[1 3 7 9]\n"
     ]
    }
   ],
   "source": [
    "### 3. 팬시 색인 : 비연속된 데이터 추출시 사용\n",
    "print(arr2d)\n",
    "print(arr2d[[0,0,2,2],[0,2,0,2]]) # [[행선택 0,2],[열선택 0,2]]\n"
   ]
  },
  {
   "cell_type": "code",
   "execution_count": 96,
   "metadata": {},
   "outputs": [
    {
     "name": "stdout",
     "output_type": "stream",
     "text": [
      "[1 2 3 4 5 6 7 8 9]\n",
      "[False False False False False  True  True  True  True]\n",
      "[6 7 8 9]\n",
      "[6 7 8 9]\n"
     ]
    }
   ],
   "source": [
    "# 블린(boolean) 인덱싱\n",
    "arr1d=np.arange(1,10)\n",
    "print(arr1d)\n",
    "print(arr1d > 5)\n",
    "print(arr1d[[False, False, False, False, False,  True,  True,  True,  True]])\n",
    "print(arr1d[arr1d>5])\n"
   ]
  },
  {
   "cell_type": "code",
   "execution_count": 97,
   "metadata": {},
   "outputs": [
    {
     "name": "stdout",
     "output_type": "stream",
     "text": [
      "[False False False False False  True  True  True  True]\n"
     ]
    }
   ],
   "source": [
    "# 32page 특정 조건에 맞는 데이터 추출 \n",
    "boolean_indexes=np.array([False,False,False,False,False,True,True,True,True])\n",
    "print(boolean_indexes)"
   ]
  },
  {
   "cell_type": "code",
   "execution_count": 99,
   "metadata": {},
   "outputs": [
    {
     "name": "stdout",
     "output_type": "stream",
     "text": [
      "[1 2 3 4 5 6 7 8 9]\n",
      "[6 7 8 9]\n"
     ]
    }
   ],
   "source": [
    "print(arr1d)\n",
    "print(arr1d[boolean_indexes])"
   ]
  },
  {
   "cell_type": "code",
   "execution_count": 105,
   "metadata": {},
   "outputs": [
    {
     "name": "stdout",
     "output_type": "stream",
     "text": [
      "[3 1 9 5]\n",
      "[1 3 5 9]\n",
      "[3 1 9 5]\n",
      "None\n",
      "[1 3 5 9]\n"
     ]
    }
   ],
   "source": [
    "# 행렬의 정렬 : sort() => 메모리에 정렬 결과 도출된다\n",
    "# np.sort() 함수, ndarray.sort() 메소드\n",
    "org_arr=np.array([3,1,9,5])\n",
    "print(org_arr) # [3 1 9 5]\n",
    "# np.sort(ndarray) \n",
    "sort_arr=np.sort(org_arr)\n",
    "print(sort_arr)\n",
    "print(org_arr) # [3 1 9 5] 원본 변경 안되었다\n",
    "\n",
    "# ndarray.sort()\n",
    "sort_arr=org_arr.sort()\n",
    "print(sort_arr) # 정렬 후 ndarray\n",
    "print(org_arr) # 정렬전 ndarray  원본이 정렬된다"
   ]
  },
  {
   "cell_type": "code",
   "execution_count": 111,
   "metadata": {},
   "outputs": [
    {
     "name": "stdout",
     "output_type": "stream",
     "text": [
      "[3 1 9 5]\n",
      "Asc :  [1 3 5 9]\n",
      "Desc :  [9 5 3 1]\n",
      "[3 1 9 5]\n"
     ]
    }
   ],
   "source": [
    "# 위 정렬에 문제점 한개 있다\n",
    "org_arr=np.array([3,1,9,5])\n",
    "sort_arr_asc=np.sort(org_arr)\n",
    "print(org_arr)\n",
    "print('Asc : ',sort_arr_asc)\n",
    "print('Desc : ',sort_arr_asc[::-1]) # [처음부터:끝까지:스텝]\n",
    "print(org_arr)"
   ]
  },
  {
   "cell_type": "code",
   "execution_count": 112,
   "metadata": {},
   "outputs": [
    {
     "name": "stdout",
     "output_type": "stream",
     "text": [
      "[[8, 12], [7, 1]]\n",
      "[[ 8 12]\n",
      " [ 7  1]]\n"
     ]
    }
   ],
   "source": [
    "# 2차원 정렬\n",
    "list_2d=[[8,12],[7,1]]\n",
    "print(list_2d)\n",
    "arr2d=np.array(list_2d)\n",
    "print(arr2d)"
   ]
  },
  {
   "cell_type": "code",
   "execution_count": 114,
   "metadata": {},
   "outputs": [
    {
     "name": "stdout",
     "output_type": "stream",
     "text": [
      "[[ 8 12]\n",
      " [ 7  1]]\n",
      "[[ 8 12]\n",
      " [ 1  7]]\n",
      "[[ 7  1]\n",
      " [ 8 12]]\n"
     ]
    }
   ],
   "source": [
    "print(arr2d)\n",
    "print(np.sort(arr2d,axis=1)) # axis=1 열방향으로 정렬\n",
    "print(np.sort(arr2d,axis=0)) # axis=0 행방향으로 정렬\n"
   ]
  },
  {
   "cell_type": "code",
   "execution_count": 123,
   "metadata": {},
   "outputs": [
    {
     "name": "stdout",
     "output_type": "stream",
     "text": [
      "원본데이터 :  [3 1 9 5]\n",
      "최대값의 인덱스 :  2\n",
      "최대값 :  9\n",
      "원본데이터 :  [3 1 9 5]\n",
      "최소값의 인덱스 :  1\n",
      "최소값 :  1\n"
     ]
    }
   ],
   "source": [
    "# argsort() : 정렬된 행렬의 인덱스를 반환한다\n",
    "print('원본데이터 : ',org_arr)\n",
    "max_index=np.argmax(org_arr)\n",
    "print('최대값의 인덱스 : ',max_index)\n",
    "print('최대값 : ',org_arr[max_index])\n",
    "\n",
    "print('원본데이터 : ',org_arr)\n",
    "min_index=np.argmin(org_arr)\n",
    "print('최소값의 인덱스 : ',min_index)\n",
    ",print('최소값 : ',org_arr[min_index])"
   ]
  },
  {
   "cell_type": "code",
   "execution_count": 132,
   "metadata": {},
   "outputs": [
    {
     "name": "stdout",
     "output_type": "stream",
     "text": [
      "원본데이터 :  [3 1 9 5]\n",
      "ASC 정렬한 인덱스 :  [1 0 3 2]\n",
      "ASC 정렬한 인덱스의 타입 :  <class 'numpy.ndarray'>\n",
      "DESC 정렬한 인덱스 :  [2 3 0 1]\n",
      "ASC 정렬한 결과 [1 3 5 9]\n",
      "DESC 정렬한 결과 [9 5 3 1]\n"
     ]
    }
   ],
   "source": [
    "print('원본데이터 : ',org_arr)\n",
    "sort_index=np.argsort(org_arr) # 정렬한 인덱스 반환\n",
    "print('ASC 정렬한 인덱스 : ', sort_index)\n",
    "print('ASC 정렬한 인덱스의 타입 : ', type(sort_index))\n",
    "print('DESC 정렬한 인덱스 : ', sort_index[::-1])\n",
    "\n",
    "print('ASC 정렬한 결과',org_arr[sort_index]),\n",
    "print('DESC 정렬한 결과',org_arr[sort_index[::-1]])"
   ]
  },
  {
   "cell_type": "code",
   "execution_count": 146,
   "metadata": {},
   "outputs": [
    {
     "name": "stdout",
     "output_type": "stream",
     "text": [
      "최대 점수  98\n",
      "최대 점수 학생명 : 둘리\n",
      "점수순(DESC) 학생명 : ['둘리' '고길동' '희동' '마이꼴' '홍길동']\n"
     ]
    }
   ],
   "source": [
    "# argsort 사용 예제\n",
    "# name_arr=['홍길동','고길동','마이꼴','둘리','희동'] #list\n",
    "# score_arr=[78,95,84,98,88] # list\n",
    "name_arr=np.array(['홍길동','고길동','마이꼴','둘리','희동']) #list\n",
    "score_arr=np.array([78,95,84,98,88]) # list\n",
    "\n",
    "max_idx=np.argmax(score_arr)\n",
    "# 최대 점수\n",
    "print('최대 점수 ',score_arr[max_idx])\n",
    "# 최대 점수 학생이름 출력\n",
    "print('최대 점수 학생명 :',name_arr[max_idx])\n",
    "\n",
    "# 점수별(DESC) 학생명 출력\n",
    "desc_sort_idx=np.argsort(score_arr)[::-1] # ndarray \n",
    "# print(type(asc_sort_idx))\n",
    "# print(type(asc_sort_idx[0]))\n",
    "print('점수순(DESC) 학생명 :', name_arr[desc_sort_idx])"
   ]
  },
  {
   "cell_type": "code",
   "execution_count": 149,
   "metadata": {},
   "outputs": [
    {
     "name": "stdout",
     "output_type": "stream",
     "text": [
      "[[1 2]\n",
      " [3 4]]\n",
      "[[1 3]\n",
      " [2 4]]\n",
      "[[1 3]\n",
      " [2 4]]\n"
     ]
    }
   ],
   "source": [
    "# 전치 행렬\n",
    "A = np.array([\n",
    "      [1,2]\n",
    "    , [3,4]\n",
    "])\n",
    "print(A)\n",
    "print(A.transpose())\n",
    "print(A.T)"
   ]
  }
 ],
 "metadata": {
  "kernelspec": {
   "display_name": "ml-dev",
   "language": "python",
   "name": "python3"
  },
  "language_info": {
   "codemirror_mode": {
    "name": "ipython",
    "version": 3
   },
   "file_extension": ".py",
   "mimetype": "text/x-python",
   "name": "python",
   "nbconvert_exporter": "python",
   "pygments_lexer": "ipython3",
   "version": "3.10.14"
  }
 },
 "nbformat": 4,
 "nbformat_minor": 2
}
